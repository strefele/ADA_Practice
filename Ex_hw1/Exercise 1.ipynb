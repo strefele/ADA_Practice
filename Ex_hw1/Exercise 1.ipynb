{
 "cells": [
  {
   "cell_type": "markdown",
   "metadata": {},
   "source": [
    "# Exercise 1\n",
    " <p><div class=\"lev1\"><a href=\"#Task-A.-Another-LEGO-brick-in-the-wall\"><span class=\"toc-item-num\">Task A.&nbsp;&nbsp;</span>Another LEGO brick in the wall</a></div>\n",
    " <p><div class=\"lev1\"><a href=\"#Task-B.-Drop-the-Bike\"><span class=\"toc-item-num\">Task B.&nbsp;&nbsp;</span>Drop the Bike</a></div>"
   ]
  },
  {
   "cell_type": "code",
   "execution_count": 1,
   "metadata": {},
   "outputs": [
    {
     "name": "stdout",
     "output_type": "stream",
     "text": [
      "Populating the interactive namespace from numpy and matplotlib\n"
     ]
    }
   ],
   "source": [
    "# Add your imports here\n",
    "% pylab inline\n",
    "import pandas as pd\n",
    "import glob\n",
    "import numpy as np"
   ]
  },
  {
   "cell_type": "code",
   "execution_count": 2,
   "metadata": {},
   "outputs": [],
   "source": [
    "DATA_FOLDER = 'data'"
   ]
  },
  {
   "cell_type": "markdown",
   "metadata": {},
   "source": [
    "## Task A. Another LEGO brick in the wall\n",
    "\n",
    "LEGO is a popular brand of toy building bricks. They are often sold in sets in order to build a specific object. Each set contains a number of parts in different shapes, sizes and colors. This database contains information on which parts are included in different LEGO sets. It was originally compiled to help people who owned some LEGO sets already figure out what other sets they could build with the pieces they had.\n",
    "\n",
    "This dataset contains the official LEGO colors, parts, inventories (i.e., sets of LEGO parts which assembled create an object in the LEGO world) and sets (i.e., sets of LEGO inventories which assembled create a LEGO ecosystem). The schema of the dataset can be shown in the following UML diagram: \n",
    "\n",
    "![lego-schema](lego-schema.png)\n",
    "\n",
    "In this task you have to apply the following Data Wrangling pipeline:\n",
    "1. Load your data into `Pandas`\n",
    "* Explore it and clean its dirty parts\n",
    "* Use it to answer a set of queries\n",
    "\n",
    "Each of these subtasks are described in detail below."
   ]
  },
  {
   "cell_type": "markdown",
   "metadata": {},
   "source": [
    "### A1. Loading phase\n",
    "Load all the csv files into different `DataFrames`. Use meaningful names for your `DataFrames` (e.g., the respective filenames).\n",
    "\n",
    "*Hint: You can load files without first unzipping them (for `Pandas` version >= 0.18.1).*"
   ]
  },
  {
   "cell_type": "code",
   "execution_count": 3,
   "metadata": {},
   "outputs": [],
   "source": [
    "LEGO_DATA_FOLDER = DATA_FOLDER + '/lego'"
   ]
  },
  {
   "cell_type": "code",
   "execution_count": 4,
   "metadata": {},
   "outputs": [],
   "source": [
    "colors = pd.read_csv(LEGO_DATA_FOLDER+'/colors.csv.zip', index_col=0)\n",
    "inventories = pd.read_csv(LEGO_DATA_FOLDER+'/inventories.csv.zip', index_col=0)\n",
    "inventory_parts = pd.read_csv(LEGO_DATA_FOLDER+'/inventory_parts.csv.zip', index_col=0)\n",
    "inventory_sets = pd.read_csv(LEGO_DATA_FOLDER+'/inventory_sets.csv.zip', index_col=0)\n",
    "part_categories = pd.read_csv(LEGO_DATA_FOLDER+'/part_categories.csv.zip', index_col=0)\n",
    "parts = pd.read_csv(LEGO_DATA_FOLDER+'/parts.csv.zip', index_col=0)\n",
    "sets = pd.read_csv(LEGO_DATA_FOLDER+'/sets.csv.zip', index_col=0)\n",
    "themes = pd.read_csv(LEGO_DATA_FOLDER+'/themes.csv.zip', index_col=0)"
   ]
  },
  {
   "cell_type": "markdown",
   "metadata": {},
   "source": [
    "### A2. Cleaning phase\n",
    "Explore the following columns from your dataset:\n",
    "\n",
    "1. sets: year\n",
    "* inventory_parts: quantity\n",
    "\n",
    "What is the time range of the sets? \n",
    "What is the average quantity of the inventory parts? \n",
    "Do you see any inconsistencies? \n",
    "Provide code that detects and cleans such inconsistencies and validates the coherence of your dataset. "
   ]
  },
  {
   "cell_type": "markdown",
   "metadata": {},
   "source": [
    "**Inconsistencies for years sets came out:**\n",
    "\n",
    "**Some years are formated eg. 70s; some have a typo with an extra character at the end eg. 19788; some have a - sign in front eg. -2014**"
   ]
  },
  {
   "cell_type": "code",
   "execution_count": 5,
   "metadata": {},
   "outputs": [],
   "source": [
    "#We replace 70s, 80s, by intermediate values\n",
    "sets['year'] = sets['year'].replace({'70s':'1975', '80s':'1985'})\n",
    "\n",
    "#Negative numbers are removed by converting to integers and taking the absolute value\n",
    "sets['year'] = sets['year'].astype(int)\n",
    "sets['year'] = sets['year'].abs()\n",
    "\n",
    "#Extra numbers are removed by converting to string and truncating, then reconverting the value back to int\n",
    "sets['year'] = sets['year'].astype(str)\n",
    "sets['year'] = sets['year'].apply(lambda x: x[:4])\n",
    "sets['year'] = sets['year'].astype(int)"
   ]
  },
  {
   "cell_type": "code",
   "execution_count": 6,
   "metadata": {},
   "outputs": [
    {
     "data": {
      "text/plain": [
       "id\n",
       "00-1      1975\n",
       "0011-2    1978\n",
       "0011-3    1987\n",
       "0012-1    1979\n",
       "0013-1    1979\n",
       "Name: year, dtype: int64"
      ]
     },
     "execution_count": 6,
     "metadata": {},
     "output_type": "execute_result"
    }
   ],
   "source": [
    "sets['year'][:5]"
   ]
  },
  {
   "cell_type": "code",
   "execution_count": 7,
   "metadata": {},
   "outputs": [
    {
     "data": {
      "text/plain": [
       "count    11673.000000\n",
       "mean      2002.021588\n",
       "std         13.395249\n",
       "min       1950.000000\n",
       "25%       1997.000000\n",
       "50%       2005.000000\n",
       "75%       2012.000000\n",
       "max       2017.000000\n",
       "Name: year, dtype: float64"
      ]
     },
     "execution_count": 7,
     "metadata": {},
     "output_type": "execute_result"
    }
   ],
   "source": [
    "sets['year'].describe()"
   ]
  },
  {
   "cell_type": "markdown",
   "metadata": {},
   "source": [
    "**Time range: 1950 to 2017. This makes sense since the first lego brick was patented in 1947 and production began in 1949.**"
   ]
  },
  {
   "cell_type": "markdown",
   "metadata": {},
   "source": [
    "**Inconsistencies observed in quantities of inventory parts: Some values are -inf**"
   ]
  },
  {
   "cell_type": "code",
   "execution_count": 8,
   "metadata": {},
   "outputs": [],
   "source": [
    "#Convert to NaN so they aren't taking into consideration when calculating descriptive statistics\n",
    "inventory_parts['quantity'] = inventory_parts['quantity'].replace(-inf, np.NaN)"
   ]
  },
  {
   "cell_type": "code",
   "execution_count": 9,
   "metadata": {},
   "outputs": [
    {
     "data": {
      "text/plain": [
       "inventory_id\n",
       "1    1.0\n",
       "1    1.0\n",
       "1    1.0\n",
       "1    1.0\n",
       "3    1.0\n",
       "3    1.0\n",
       "3    1.0\n",
       "3    1.0\n",
       "3    1.0\n",
       "3    NaN\n",
       "Name: quantity, dtype: float64"
      ]
     },
     "execution_count": 9,
     "metadata": {},
     "output_type": "execute_result"
    }
   ],
   "source": [
    "inventory_parts['quantity'][:10]"
   ]
  },
  {
   "cell_type": "code",
   "execution_count": 10,
   "metadata": {},
   "outputs": [
    {
     "data": {
      "text/plain": [
       "count    418455.000000\n",
       "mean          3.836938\n",
       "std           9.642451\n",
       "min           1.000000\n",
       "25%           1.000000\n",
       "50%           1.000000\n",
       "75%           4.000000\n",
       "max        1440.000000\n",
       "Name: quantity, dtype: float64"
      ]
     },
     "execution_count": 10,
     "metadata": {},
     "output_type": "execute_result"
    }
   ],
   "source": [
    "inventory_parts['quantity'].describe()"
   ]
  },
  {
   "cell_type": "markdown",
   "metadata": {},
   "source": [
    "**The average quantity of parts is almost four** "
   ]
  },
  {
   "cell_type": "markdown",
   "metadata": {},
   "source": [
    "### A3. Querying phase\n",
    "Answer the following queries using the functionality of `Pandas`:\n",
    "\n",
    "1. List the ids of the inventories that belong to sets that contain cars. (*Hint: Find a smart way to distinguish which sets contain cars based on the sets' name*).\n",
    "* Plot the distribution of part categories as a (horizontal) bar chart. Restrict yourself to the 20 largest part categories (in terms of the number of parts belonging to the category).\n",
    "* Find the dominant color of each set. Then, plot using a (horizontal) bar chart, the number of sets per dominant color. Color each bar with the respective color that it represents.\n",
    "* Create a scatter plot of the *luminance*\\* of the sets vs their publishing year. What do you observe for the years 1980-1981? How do you interpret what you see?\n",
    "\n",
    "\\*The luminance of a color is a [measure of brightness](https://en.wikipedia.org/wiki/Luminance) which, given its RGB representation, can be computed as follows:\n",
    "\n",
    "$luminance = \\sqrt{0.299*R^2 + 0.587*G^2 + 0.114*B^2}$"
   ]
  },
  {
   "cell_type": "markdown",
   "metadata": {},
   "source": [
    "**1. What sets contains cars?**\n",
    "\n",
    "We can take sets with the word 'cars' in their name, but this will include things such as \"Railroad Club Car\". Themes cannot be used, since we must address questions like does a specific traffic-themed set contain cars or motorcycles? Categories of parts are too broad.\n",
    "\n",
    "We cannot find a way to distinguish sets that contain cars."
   ]
  },
  {
   "cell_type": "markdown",
   "metadata": {},
   "source": [
    "**2. Categories with the largest number of parts **\n",
    "\n",
    "The number of parts in a given category is the number of times this category shows up next to a part when the datasets are merged."
   ]
  },
  {
   "cell_type": "code",
   "execution_count": 11,
   "metadata": {},
   "outputs": [
    {
     "data": {
      "text/html": [
       "<div>\n",
       "<style scoped>\n",
       "    .dataframe tbody tr th:only-of-type {\n",
       "        vertical-align: middle;\n",
       "    }\n",
       "\n",
       "    .dataframe tbody tr th {\n",
       "        vertical-align: top;\n",
       "    }\n",
       "\n",
       "    .dataframe thead th {\n",
       "        text-align: right;\n",
       "    }\n",
       "</style>\n",
       "<table border=\"1\" class=\"dataframe\">\n",
       "  <thead>\n",
       "    <tr style=\"text-align: right;\">\n",
       "      <th></th>\n",
       "      <th>name_part</th>\n",
       "      <th>part_cat_id</th>\n",
       "      <th>name_category</th>\n",
       "    </tr>\n",
       "    <tr>\n",
       "      <th>id</th>\n",
       "      <th></th>\n",
       "      <th></th>\n",
       "      <th></th>\n",
       "    </tr>\n",
       "  </thead>\n",
       "  <tbody>\n",
       "    <tr>\n",
       "      <th>0687b1</th>\n",
       "      <td>Set 0687 Activity Booklet 1</td>\n",
       "      <td>17</td>\n",
       "      <td>Non-LEGO</td>\n",
       "    </tr>\n",
       "    <tr>\n",
       "      <th>10016414</th>\n",
       "      <td>Sticker Sheet #1 for 41055-1</td>\n",
       "      <td>17</td>\n",
       "      <td>Non-LEGO</td>\n",
       "    </tr>\n",
       "    <tr>\n",
       "      <th>10019stk01</th>\n",
       "      <td>Sticker for Set 10019 - (43274/4170393)</td>\n",
       "      <td>17</td>\n",
       "      <td>Non-LEGO</td>\n",
       "    </tr>\n",
       "    <tr>\n",
       "      <th>10026stk01</th>\n",
       "      <td>Sticker for Set 10026 - (44942/4184185)</td>\n",
       "      <td>17</td>\n",
       "      <td>Non-LEGO</td>\n",
       "    </tr>\n",
       "    <tr>\n",
       "      <th>10029stk01</th>\n",
       "      <td>Sticker for Set 10029 - (4216816)</td>\n",
       "      <td>17</td>\n",
       "      <td>Non-LEGO</td>\n",
       "    </tr>\n",
       "  </tbody>\n",
       "</table>\n",
       "</div>"
      ],
      "text/plain": [
       "                                          name_part  part_cat_id name_category\n",
       "id                                                                            \n",
       "0687b1                  Set 0687 Activity Booklet 1           17      Non-LEGO\n",
       "10016414               Sticker Sheet #1 for 41055-1           17      Non-LEGO\n",
       "10019stk01  Sticker for Set 10019 - (43274/4170393)           17      Non-LEGO\n",
       "10026stk01  Sticker for Set 10026 - (44942/4184185)           17      Non-LEGO\n",
       "10029stk01        Sticker for Set 10029 - (4216816)           17      Non-LEGO"
      ]
     },
     "execution_count": 11,
     "metadata": {},
     "output_type": "execute_result"
    }
   ],
   "source": [
    "parts_per_category = pd.merge(parts, part_categories, left_on='part_cat_id', right_index=True, \n",
    "                             suffixes=['_part', '_category'])\n",
    "parts_per_category.head()"
   ]
  },
  {
   "cell_type": "code",
   "execution_count": 12,
   "metadata": {},
   "outputs": [
    {
     "data": {
      "text/plain": [
       "<matplotlib.axes._subplots.AxesSubplot at 0x7f738ecf3e10>"
      ]
     },
     "execution_count": 12,
     "metadata": {},
     "output_type": "execute_result"
    },
    {
     "data": {
      "image/png": "[encoded data removed]",
      "text/plain": [
       "<Figure size 432x288 with 1 Axes>"
      ]
     },
     "metadata": {},
     "output_type": "display_data"
    }
   ],
   "source": [
    "category_counts = parts_per_category['name_category'].value_counts()\n",
    "top_category_counts = category_counts[:20]\n",
    "top_category_counts.plot(kind='barh')"
   ]
  },
  {
   "cell_type": "markdown",
   "metadata": {},
   "source": [
    "**3. Dominant color of each set **\n",
    "\n",
    "First we need to merge the sets with their list of colors."
   ]
  },
  {
   "cell_type": "code",
   "execution_count": 13,
   "metadata": {},
   "outputs": [
    {
     "data": {
      "text/html": [
       "<div>\n",
       "<style scoped>\n",
       "    .dataframe tbody tr th:only-of-type {\n",
       "        vertical-align: middle;\n",
       "    }\n",
       "\n",
       "    .dataframe tbody tr th {\n",
       "        vertical-align: top;\n",
       "    }\n",
       "\n",
       "    .dataframe thead th {\n",
       "        text-align: right;\n",
       "    }\n",
       "</style>\n",
       "<table border=\"1\" class=\"dataframe\">\n",
       "  <thead>\n",
       "    <tr style=\"text-align: right;\">\n",
       "      <th></th>\n",
       "      <th>set_id</th>\n",
       "      <th>inventories_per_set</th>\n",
       "      <th>name_set</th>\n",
       "      <th>year</th>\n",
       "      <th>color_id</th>\n",
       "      <th>parts_per_inventory</th>\n",
       "      <th>name_color</th>\n",
       "      <th>rgb</th>\n",
       "    </tr>\n",
       "    <tr>\n",
       "      <th>inventory_id</th>\n",
       "      <th></th>\n",
       "      <th></th>\n",
       "      <th></th>\n",
       "      <th></th>\n",
       "      <th></th>\n",
       "      <th></th>\n",
       "      <th></th>\n",
       "      <th></th>\n",
       "    </tr>\n",
       "  </thead>\n",
       "  <tbody>\n",
       "    <tr>\n",
       "      <th>87</th>\n",
       "      <td>10233-1</td>\n",
       "      <td>1</td>\n",
       "      <td>Horizon Express</td>\n",
       "      <td>2013</td>\n",
       "      <td>9999</td>\n",
       "      <td>1.0</td>\n",
       "      <td>[No Color]</td>\n",
       "      <td>05131D</td>\n",
       "    </tr>\n",
       "    <tr>\n",
       "      <th>87</th>\n",
       "      <td>88002-1</td>\n",
       "      <td>1</td>\n",
       "      <td>Power Functions Train Motor</td>\n",
       "      <td>2011</td>\n",
       "      <td>9999</td>\n",
       "      <td>1.0</td>\n",
       "      <td>[No Color]</td>\n",
       "      <td>05131D</td>\n",
       "    </tr>\n",
       "    <tr>\n",
       "      <th>87</th>\n",
       "      <td>8870-1</td>\n",
       "      <td>1</td>\n",
       "      <td>Power Functions Light</td>\n",
       "      <td>2009</td>\n",
       "      <td>9999</td>\n",
       "      <td>1.0</td>\n",
       "      <td>[No Color]</td>\n",
       "      <td>05131D</td>\n",
       "    </tr>\n",
       "    <tr>\n",
       "      <th>87</th>\n",
       "      <td>8878-1</td>\n",
       "      <td>1</td>\n",
       "      <td>Rechargeable Battery Box</td>\n",
       "      <td>2009</td>\n",
       "      <td>9999</td>\n",
       "      <td>1.0</td>\n",
       "      <td>[No Color]</td>\n",
       "      <td>05131D</td>\n",
       "    </tr>\n",
       "    <tr>\n",
       "      <th>87</th>\n",
       "      <td>8879-1</td>\n",
       "      <td>1</td>\n",
       "      <td>IR Speed Remote Control</td>\n",
       "      <td>2009</td>\n",
       "      <td>9999</td>\n",
       "      <td>1.0</td>\n",
       "      <td>[No Color]</td>\n",
       "      <td>05131D</td>\n",
       "    </tr>\n",
       "  </tbody>\n",
       "</table>\n",
       "</div>"
      ],
      "text/plain": [
       "               set_id  inventories_per_set                     name_set  year  \\\n",
       "inventory_id                                                                    \n",
       "87            10233-1                    1              Horizon Express  2013   \n",
       "87            88002-1                    1  Power Functions Train Motor  2011   \n",
       "87             8870-1                    1        Power Functions Light  2009   \n",
       "87             8878-1                    1     Rechargeable Battery Box  2009   \n",
       "87             8879-1                    1      IR Speed Remote Control  2009   \n",
       "\n",
       "              color_id  parts_per_inventory  name_color     rgb  \n",
       "inventory_id                                                     \n",
       "87                9999                  1.0  [No Color]  05131D  \n",
       "87                9999                  1.0  [No Color]  05131D  \n",
       "87                9999                  1.0  [No Color]  05131D  \n",
       "87                9999                  1.0  [No Color]  05131D  \n",
       "87                9999                  1.0  [No Color]  05131D  "
      ]
     },
     "execution_count": 13,
     "metadata": {},
     "output_type": "execute_result"
    }
   ],
   "source": [
    "inventory_colors = pd.merge(inventory_parts, colors, left_on='color_id', right_index=True)\n",
    "inventory_colors.drop(columns=['part_id', 'is_spare', 'is_trans'], inplace=True)\n",
    "inventory_colors.rename(columns={'quantity':'parts_per_inventory'}, inplace=True)\n",
    "\n",
    "full_inventory_sets = pd.merge(inventory_sets, sets, left_on='set_id', right_index=True)\n",
    "full_inventory_sets.drop(columns=['theme_id', 'num_parts'], inplace=True)\n",
    "full_inventory_sets.rename(columns={'quantity':'inventories_per_set'}, inplace=True)\n",
    "\n",
    "set_color_merge = pd.merge(full_inventory_sets, inventory_colors, left_index=True, right_index=True, \n",
    "                          suffixes=['_set', '_color'])\n",
    "set_color_merge.head()"
   ]
  },
  {
   "cell_type": "markdown",
   "metadata": {},
   "source": [
    "Number of parts in a set = (number of parts in an inventory) x (number of inventories in a set)"
   ]
  },
  {
   "cell_type": "code",
   "execution_count": 14,
   "metadata": {},
   "outputs": [],
   "source": [
    "set_color_merge['parts_per_set'] = set_color_merge.inventories_per_set*set_color_merge.parts_per_inventory\n",
    "set_color_merge.drop(columns=['inventories_per_set', 'parts_per_inventory'], inplace=True)"
   ]
  },
  {
   "cell_type": "code",
   "execution_count": 15,
   "metadata": {},
   "outputs": [
    {
     "data": {
      "text/html": [
       "<div>\n",
       "<style scoped>\n",
       "    .dataframe tbody tr th:only-of-type {\n",
       "        vertical-align: middle;\n",
       "    }\n",
       "\n",
       "    .dataframe tbody tr th {\n",
       "        vertical-align: top;\n",
       "    }\n",
       "\n",
       "    .dataframe thead th {\n",
       "        text-align: right;\n",
       "    }\n",
       "</style>\n",
       "<table border=\"1\" class=\"dataframe\">\n",
       "  <thead>\n",
       "    <tr style=\"text-align: right;\">\n",
       "      <th></th>\n",
       "      <th></th>\n",
       "      <th>year</th>\n",
       "      <th>color_id</th>\n",
       "      <th>parts_per_set</th>\n",
       "    </tr>\n",
       "    <tr>\n",
       "      <th>set_id</th>\n",
       "      <th>name_color</th>\n",
       "      <th></th>\n",
       "      <th></th>\n",
       "      <th></th>\n",
       "    </tr>\n",
       "  </thead>\n",
       "  <tbody>\n",
       "    <tr>\n",
       "      <th rowspan=\"7\" valign=\"top\">10127-1</th>\n",
       "      <th>Black</th>\n",
       "      <td>2003</td>\n",
       "      <td>0</td>\n",
       "      <td>0.0</td>\n",
       "    </tr>\n",
       "    <tr>\n",
       "      <th>Blue</th>\n",
       "      <td>2003</td>\n",
       "      <td>1</td>\n",
       "      <td>0.0</td>\n",
       "    </tr>\n",
       "    <tr>\n",
       "      <th>Green</th>\n",
       "      <td>2003</td>\n",
       "      <td>2</td>\n",
       "      <td>0.0</td>\n",
       "    </tr>\n",
       "    <tr>\n",
       "      <th>Orange</th>\n",
       "      <td>2003</td>\n",
       "      <td>25</td>\n",
       "      <td>0.0</td>\n",
       "    </tr>\n",
       "    <tr>\n",
       "      <th>Red</th>\n",
       "      <td>2003</td>\n",
       "      <td>4</td>\n",
       "      <td>0.0</td>\n",
       "    </tr>\n",
       "    <tr>\n",
       "      <th>White</th>\n",
       "      <td>4006</td>\n",
       "      <td>30</td>\n",
       "      <td>0.0</td>\n",
       "    </tr>\n",
       "    <tr>\n",
       "      <th>[No Color]</th>\n",
       "      <td>10015</td>\n",
       "      <td>49995</td>\n",
       "      <td>4.0</td>\n",
       "    </tr>\n",
       "    <tr>\n",
       "      <th rowspan=\"2\" valign=\"top\">10173-1</th>\n",
       "      <th>Black</th>\n",
       "      <td>8024</td>\n",
       "      <td>0</td>\n",
       "      <td>7.0</td>\n",
       "    </tr>\n",
       "    <tr>\n",
       "      <th>Dark Bluish Gray</th>\n",
       "      <td>4012</td>\n",
       "      <td>144</td>\n",
       "      <td>16.0</td>\n",
       "    </tr>\n",
       "    <tr>\n",
       "      <th>10194-1</th>\n",
       "      <th>[No Color]</th>\n",
       "      <td>2009</td>\n",
       "      <td>9999</td>\n",
       "      <td>1.0</td>\n",
       "    </tr>\n",
       "  </tbody>\n",
       "</table>\n",
       "</div>"
      ],
      "text/plain": [
       "                           year  color_id  parts_per_set\n",
       "set_id  name_color                                      \n",
       "10127-1 Black              2003         0            0.0\n",
       "        Blue               2003         1            0.0\n",
       "        Green              2003         2            0.0\n",
       "        Orange             2003        25            0.0\n",
       "        Red                2003         4            0.0\n",
       "        White              4006        30            0.0\n",
       "        [No Color]        10015     49995            4.0\n",
       "10173-1 Black              8024         0            7.0\n",
       "        Dark Bluish Gray   4012       144           16.0\n",
       "10194-1 [No Color]         2009      9999            1.0"
      ]
     },
     "execution_count": 15,
     "metadata": {},
     "output_type": "execute_result"
    }
   ],
   "source": [
    "set_color_group = set_color_merge.groupby(['set_id', 'name_color']).sum()\n",
    "set_color_group.head(10)"
   ]
  },
  {
   "cell_type": "code",
   "execution_count": 16,
   "metadata": {},
   "outputs": [],
   "source": [
    "#get dominant color for each set\n",
    "dominant_color = set_color_group['parts_per_set'].groupby('set_id').idxmax()\n",
    "dominant_color = dominant_color.apply(lambda x: x[1]).value_counts()"
   ]
  },
  {
   "cell_type": "markdown",
   "metadata": {},
   "source": [
    "We also want the bars of the graph to be the color that bar is representing. For this, we need to convert the RGB strings given to us into hexadecimal coordinates."
   ]
  },
  {
   "cell_type": "code",
   "execution_count": 17,
   "metadata": {},
   "outputs": [
    {
     "data": {
      "text/html": [
       "<div>\n",
       "<style scoped>\n",
       "    .dataframe tbody tr th:only-of-type {\n",
       "        vertical-align: middle;\n",
       "    }\n",
       "\n",
       "    .dataframe tbody tr th {\n",
       "        vertical-align: top;\n",
       "    }\n",
       "\n",
       "    .dataframe thead th {\n",
       "        text-align: right;\n",
       "    }\n",
       "</style>\n",
       "<table border=\"1\" class=\"dataframe\">\n",
       "  <thead>\n",
       "    <tr style=\"text-align: right;\">\n",
       "      <th></th>\n",
       "      <th>id</th>\n",
       "      <th>parts_per_set</th>\n",
       "      <th>rgb</th>\n",
       "      <th>is_trans</th>\n",
       "    </tr>\n",
       "    <tr>\n",
       "      <th>name</th>\n",
       "      <th></th>\n",
       "      <th></th>\n",
       "      <th></th>\n",
       "      <th></th>\n",
       "    </tr>\n",
       "  </thead>\n",
       "  <tbody>\n",
       "    <tr>\n",
       "      <th>Royal Blue</th>\n",
       "      <td>89</td>\n",
       "      <td>41</td>\n",
       "      <td>4C61DB</td>\n",
       "      <td>f</td>\n",
       "    </tr>\n",
       "    <tr>\n",
       "      <th>[No Color]</th>\n",
       "      <td>9999</td>\n",
       "      <td>40</td>\n",
       "      <td>05131D</td>\n",
       "      <td>f</td>\n",
       "    </tr>\n",
       "    <tr>\n",
       "      <th>Black</th>\n",
       "      <td>0</td>\n",
       "      <td>36</td>\n",
       "      <td>05131D</td>\n",
       "      <td>f</td>\n",
       "    </tr>\n",
       "    <tr>\n",
       "      <th>Unknown</th>\n",
       "      <td>-1</td>\n",
       "      <td>29</td>\n",
       "      <td>0033B2</td>\n",
       "      <td>f</td>\n",
       "    </tr>\n",
       "    <tr>\n",
       "      <th>Flat Dark Gold</th>\n",
       "      <td>178</td>\n",
       "      <td>6</td>\n",
       "      <td>B48455</td>\n",
       "      <td>f</td>\n",
       "    </tr>\n",
       "  </tbody>\n",
       "</table>\n",
       "</div>"
      ],
      "text/plain": [
       "                  id  parts_per_set     rgb is_trans\n",
       "name                                                \n",
       "Royal Blue        89             41  4C61DB        f\n",
       "[No Color]      9999             40  05131D        f\n",
       "Black              0             36  05131D        f\n",
       "Unknown           -1             29  0033B2        f\n",
       "Flat Dark Gold   178              6  B48455        f"
      ]
     },
     "execution_count": 17,
     "metadata": {},
     "output_type": "execute_result"
    }
   ],
   "source": [
    "dominant_color_df = pd.DataFrame(dominant_color)\n",
    "dominant_color_df = pd.merge(dominant_color_df, colors, left_index=True, right_on='name')\n",
    "dominant_color_df.reset_index(inplace=True)\n",
    "dominant_color_df.set_index('name', inplace=True)\n",
    "dominant_color_df.head()"
   ]
  },
  {
   "cell_type": "code",
   "execution_count": 18,
   "metadata": {},
   "outputs": [
    {
     "data": {
      "text/plain": [
       "<matplotlib.axes._subplots.AxesSubplot at 0x7f738e98f550>"
      ]
     },
     "execution_count": 18,
     "metadata": {},
     "output_type": "execute_result"
    },
    {
     "data": {
      "image/png": "[encoded data removed]",
      "text/plain": [
       "<Figure size 432x288 with 1 Axes>"
      ]
     },
     "metadata": {},
     "output_type": "display_data"
    }
   ],
   "source": [
    "#proper hexadecimal rgb syntax and plot of dominant colors\n",
    "dominant_color_df['rgb'] = '#' + dominant_color_df['rgb'].astype(str)\n",
    "dominant_color_plot = dominant_color_df.parts_per_set.plot(kind='barh', color=dominant_color_df['rgb'])\n",
    "\n",
    "#change background color so we can see white\n",
    "dominant_color_plot.set_facecolor(\"lightgray\")\n",
    "dominant_color_plot"
   ]
  },
  {
   "cell_type": "markdown",
   "metadata": {},
   "source": [
    "**4. Luminance of each set by year **\n",
    "\n",
    "$luminance = \\sqrt{0.299*R^2 + 0.587*G^2 + 0.114*B^2}$"
   ]
  },
  {
   "cell_type": "code",
   "execution_count": 19,
   "metadata": {},
   "outputs": [
    {
     "data": {
      "text/html": [
       "<div>\n",
       "<style scoped>\n",
       "    .dataframe tbody tr th:only-of-type {\n",
       "        vertical-align: middle;\n",
       "    }\n",
       "\n",
       "    .dataframe tbody tr th {\n",
       "        vertical-align: top;\n",
       "    }\n",
       "\n",
       "    .dataframe thead th {\n",
       "        text-align: right;\n",
       "    }\n",
       "</style>\n",
       "<table border=\"1\" class=\"dataframe\">\n",
       "  <thead>\n",
       "    <tr style=\"text-align: right;\">\n",
       "      <th></th>\n",
       "      <th>set_id</th>\n",
       "      <th>name_set</th>\n",
       "      <th>year</th>\n",
       "      <th>color_id</th>\n",
       "      <th>name_color</th>\n",
       "      <th>rgb</th>\n",
       "      <th>parts_per_set</th>\n",
       "    </tr>\n",
       "    <tr>\n",
       "      <th>inventory_id</th>\n",
       "      <th></th>\n",
       "      <th></th>\n",
       "      <th></th>\n",
       "      <th></th>\n",
       "      <th></th>\n",
       "      <th></th>\n",
       "      <th></th>\n",
       "    </tr>\n",
       "  </thead>\n",
       "  <tbody>\n",
       "    <tr>\n",
       "      <th>87</th>\n",
       "      <td>10233-1</td>\n",
       "      <td>Horizon Express</td>\n",
       "      <td>2013</td>\n",
       "      <td>9999</td>\n",
       "      <td>[No Color]</td>\n",
       "      <td>05131D</td>\n",
       "      <td>1.0</td>\n",
       "    </tr>\n",
       "    <tr>\n",
       "      <th>87</th>\n",
       "      <td>88002-1</td>\n",
       "      <td>Power Functions Train Motor</td>\n",
       "      <td>2011</td>\n",
       "      <td>9999</td>\n",
       "      <td>[No Color]</td>\n",
       "      <td>05131D</td>\n",
       "      <td>1.0</td>\n",
       "    </tr>\n",
       "    <tr>\n",
       "      <th>87</th>\n",
       "      <td>8870-1</td>\n",
       "      <td>Power Functions Light</td>\n",
       "      <td>2009</td>\n",
       "      <td>9999</td>\n",
       "      <td>[No Color]</td>\n",
       "      <td>05131D</td>\n",
       "      <td>1.0</td>\n",
       "    </tr>\n",
       "    <tr>\n",
       "      <th>87</th>\n",
       "      <td>8878-1</td>\n",
       "      <td>Rechargeable Battery Box</td>\n",
       "      <td>2009</td>\n",
       "      <td>9999</td>\n",
       "      <td>[No Color]</td>\n",
       "      <td>05131D</td>\n",
       "      <td>1.0</td>\n",
       "    </tr>\n",
       "    <tr>\n",
       "      <th>87</th>\n",
       "      <td>8879-1</td>\n",
       "      <td>IR Speed Remote Control</td>\n",
       "      <td>2009</td>\n",
       "      <td>9999</td>\n",
       "      <td>[No Color]</td>\n",
       "      <td>05131D</td>\n",
       "      <td>1.0</td>\n",
       "    </tr>\n",
       "  </tbody>\n",
       "</table>\n",
       "</div>"
      ],
      "text/plain": [
       "               set_id                     name_set  year  color_id  \\\n",
       "inventory_id                                                         \n",
       "87            10233-1              Horizon Express  2013      9999   \n",
       "87            88002-1  Power Functions Train Motor  2011      9999   \n",
       "87             8870-1        Power Functions Light  2009      9999   \n",
       "87             8878-1     Rechargeable Battery Box  2009      9999   \n",
       "87             8879-1      IR Speed Remote Control  2009      9999   \n",
       "\n",
       "              name_color     rgb  parts_per_set  \n",
       "inventory_id                                     \n",
       "87            [No Color]  05131D            1.0  \n",
       "87            [No Color]  05131D            1.0  \n",
       "87            [No Color]  05131D            1.0  \n",
       "87            [No Color]  05131D            1.0  \n",
       "87            [No Color]  05131D            1.0  "
      ]
     },
     "execution_count": 19,
     "metadata": {},
     "output_type": "execute_result"
    }
   ],
   "source": [
    "#previously created dataframe\n",
    "set_color_merge.head()"
   ]
  },
  {
   "cell_type": "code",
   "execution_count": 20,
   "metadata": {},
   "outputs": [
    {
     "data": {
      "text/html": [
       "<div>\n",
       "<style scoped>\n",
       "    .dataframe tbody tr th:only-of-type {\n",
       "        vertical-align: middle;\n",
       "    }\n",
       "\n",
       "    .dataframe tbody tr th {\n",
       "        vertical-align: top;\n",
       "    }\n",
       "\n",
       "    .dataframe thead th {\n",
       "        text-align: right;\n",
       "    }\n",
       "</style>\n",
       "<table border=\"1\" class=\"dataframe\">\n",
       "  <thead>\n",
       "    <tr style=\"text-align: right;\">\n",
       "      <th></th>\n",
       "      <th>set_id</th>\n",
       "      <th>name_set</th>\n",
       "      <th>year</th>\n",
       "      <th>color_id</th>\n",
       "      <th>name_color</th>\n",
       "      <th>rgb</th>\n",
       "      <th>parts_per_set</th>\n",
       "      <th>R</th>\n",
       "      <th>G</th>\n",
       "      <th>B</th>\n",
       "      <th>luminance</th>\n",
       "    </tr>\n",
       "    <tr>\n",
       "      <th>inventory_id</th>\n",
       "      <th></th>\n",
       "      <th></th>\n",
       "      <th></th>\n",
       "      <th></th>\n",
       "      <th></th>\n",
       "      <th></th>\n",
       "      <th></th>\n",
       "      <th></th>\n",
       "      <th></th>\n",
       "      <th></th>\n",
       "      <th></th>\n",
       "    </tr>\n",
       "  </thead>\n",
       "  <tbody>\n",
       "    <tr>\n",
       "      <th>8348</th>\n",
       "      <td>7907-19</td>\n",
       "      <td>Advent Calendar 2007 City (Day 18) Signal Mast</td>\n",
       "      <td>2007</td>\n",
       "      <td>14</td>\n",
       "      <td>Yellow</td>\n",
       "      <td>F2CD37</td>\n",
       "      <td>1.0</td>\n",
       "      <td>242</td>\n",
       "      <td>205</td>\n",
       "      <td>55</td>\n",
       "      <td>206.213872</td>\n",
       "    </tr>\n",
       "    <tr>\n",
       "      <th>8348</th>\n",
       "      <td>7907-19</td>\n",
       "      <td>Advent Calendar 2007 City (Day 18) Signal Mast</td>\n",
       "      <td>2007</td>\n",
       "      <td>73</td>\n",
       "      <td>Medium Blue</td>\n",
       "      <td>5A93DB</td>\n",
       "      <td>1.0</td>\n",
       "      <td>90</td>\n",
       "      <td>147</td>\n",
       "      <td>219</td>\n",
       "      <td>143.436177</td>\n",
       "    </tr>\n",
       "    <tr>\n",
       "      <th>8348</th>\n",
       "      <td>7907-2</td>\n",
       "      <td>Advent Calendar 2007 City (Day  1) Firefighter...</td>\n",
       "      <td>2007</td>\n",
       "      <td>0</td>\n",
       "      <td>Black</td>\n",
       "      <td>05131D</td>\n",
       "      <td>1.0</td>\n",
       "      <td>5</td>\n",
       "      <td>19</td>\n",
       "      <td>29</td>\n",
       "      <td>17.755450</td>\n",
       "    </tr>\n",
       "    <tr>\n",
       "      <th>8348</th>\n",
       "      <td>7907-2</td>\n",
       "      <td>Advent Calendar 2007 City (Day  1) Firefighter...</td>\n",
       "      <td>2007</td>\n",
       "      <td>1</td>\n",
       "      <td>Blue</td>\n",
       "      <td>0055BF</td>\n",
       "      <td>1.0</td>\n",
       "      <td>0</td>\n",
       "      <td>85</td>\n",
       "      <td>191</td>\n",
       "      <td>91.651017</td>\n",
       "    </tr>\n",
       "    <tr>\n",
       "      <th>8348</th>\n",
       "      <td>7907-2</td>\n",
       "      <td>Advent Calendar 2007 City (Day  1) Firefighter...</td>\n",
       "      <td>2007</td>\n",
       "      <td>14</td>\n",
       "      <td>Yellow</td>\n",
       "      <td>F2CD37</td>\n",
       "      <td>1.0</td>\n",
       "      <td>242</td>\n",
       "      <td>205</td>\n",
       "      <td>55</td>\n",
       "      <td>206.213872</td>\n",
       "    </tr>\n",
       "    <tr>\n",
       "      <th>8348</th>\n",
       "      <td>7907-2</td>\n",
       "      <td>Advent Calendar 2007 City (Day  1) Firefighter...</td>\n",
       "      <td>2007</td>\n",
       "      <td>73</td>\n",
       "      <td>Medium Blue</td>\n",
       "      <td>5A93DB</td>\n",
       "      <td>1.0</td>\n",
       "      <td>90</td>\n",
       "      <td>147</td>\n",
       "      <td>219</td>\n",
       "      <td>143.436177</td>\n",
       "    </tr>\n",
       "    <tr>\n",
       "      <th>8348</th>\n",
       "      <td>7907-20</td>\n",
       "      <td>Advent Calendar 2007 City (Day 19) Sanitary En...</td>\n",
       "      <td>2007</td>\n",
       "      <td>0</td>\n",
       "      <td>Black</td>\n",
       "      <td>05131D</td>\n",
       "      <td>1.0</td>\n",
       "      <td>5</td>\n",
       "      <td>19</td>\n",
       "      <td>29</td>\n",
       "      <td>17.755450</td>\n",
       "    </tr>\n",
       "    <tr>\n",
       "      <th>8348</th>\n",
       "      <td>7907-20</td>\n",
       "      <td>Advent Calendar 2007 City (Day 19) Sanitary En...</td>\n",
       "      <td>2007</td>\n",
       "      <td>1</td>\n",
       "      <td>Blue</td>\n",
       "      <td>0055BF</td>\n",
       "      <td>1.0</td>\n",
       "      <td>0</td>\n",
       "      <td>85</td>\n",
       "      <td>191</td>\n",
       "      <td>91.651017</td>\n",
       "    </tr>\n",
       "    <tr>\n",
       "      <th>8348</th>\n",
       "      <td>7907-20</td>\n",
       "      <td>Advent Calendar 2007 City (Day 19) Sanitary En...</td>\n",
       "      <td>2007</td>\n",
       "      <td>14</td>\n",
       "      <td>Yellow</td>\n",
       "      <td>F2CD37</td>\n",
       "      <td>1.0</td>\n",
       "      <td>242</td>\n",
       "      <td>205</td>\n",
       "      <td>55</td>\n",
       "      <td>206.213872</td>\n",
       "    </tr>\n",
       "    <tr>\n",
       "      <th>8348</th>\n",
       "      <td>7907-20</td>\n",
       "      <td>Advent Calendar 2007 City (Day 19) Sanitary En...</td>\n",
       "      <td>2007</td>\n",
       "      <td>73</td>\n",
       "      <td>Medium Blue</td>\n",
       "      <td>5A93DB</td>\n",
       "      <td>1.0</td>\n",
       "      <td>90</td>\n",
       "      <td>147</td>\n",
       "      <td>219</td>\n",
       "      <td>143.436177</td>\n",
       "    </tr>\n",
       "  </tbody>\n",
       "</table>\n",
       "</div>"
      ],
      "text/plain": [
       "               set_id                                           name_set  \\\n",
       "inventory_id                                                               \n",
       "8348          7907-19     Advent Calendar 2007 City (Day 18) Signal Mast   \n",
       "8348          7907-19     Advent Calendar 2007 City (Day 18) Signal Mast   \n",
       "8348           7907-2  Advent Calendar 2007 City (Day  1) Firefighter...   \n",
       "8348           7907-2  Advent Calendar 2007 City (Day  1) Firefighter...   \n",
       "8348           7907-2  Advent Calendar 2007 City (Day  1) Firefighter...   \n",
       "8348           7907-2  Advent Calendar 2007 City (Day  1) Firefighter...   \n",
       "8348          7907-20  Advent Calendar 2007 City (Day 19) Sanitary En...   \n",
       "8348          7907-20  Advent Calendar 2007 City (Day 19) Sanitary En...   \n",
       "8348          7907-20  Advent Calendar 2007 City (Day 19) Sanitary En...   \n",
       "8348          7907-20  Advent Calendar 2007 City (Day 19) Sanitary En...   \n",
       "\n",
       "              year  color_id   name_color     rgb  parts_per_set    R    G  \\\n",
       "inventory_id                                                                 \n",
       "8348          2007        14       Yellow  F2CD37            1.0  242  205   \n",
       "8348          2007        73  Medium Blue  5A93DB            1.0   90  147   \n",
       "8348          2007         0        Black  05131D            1.0    5   19   \n",
       "8348          2007         1         Blue  0055BF            1.0    0   85   \n",
       "8348          2007        14       Yellow  F2CD37            1.0  242  205   \n",
       "8348          2007        73  Medium Blue  5A93DB            1.0   90  147   \n",
       "8348          2007         0        Black  05131D            1.0    5   19   \n",
       "8348          2007         1         Blue  0055BF            1.0    0   85   \n",
       "8348          2007        14       Yellow  F2CD37            1.0  242  205   \n",
       "8348          2007        73  Medium Blue  5A93DB            1.0   90  147   \n",
       "\n",
       "                B   luminance  \n",
       "inventory_id                   \n",
       "8348           55  206.213872  \n",
       "8348          219  143.436177  \n",
       "8348           29   17.755450  \n",
       "8348          191   91.651017  \n",
       "8348           55  206.213872  \n",
       "8348          219  143.436177  \n",
       "8348           29   17.755450  \n",
       "8348          191   91.651017  \n",
       "8348           55  206.213872  \n",
       "8348          219  143.436177  "
      ]
     },
     "execution_count": 20,
     "metadata": {},
     "output_type": "execute_result"
    }
   ],
   "source": [
    "#calculating luminance\n",
    "\n",
    "#R, G, B columns\n",
    "set_color_merge.rgb = set_color_merge.rgb.astype(str)\n",
    "set_color_merge['R'] = set_color_merge.rgb.str[:2]\n",
    "set_color_merge['G'] = set_color_merge.rgb.str[2:4]\n",
    "set_color_merge['B'] = set_color_merge.rgb.str[4:6]\n",
    "\n",
    "#Transform hex into decimal\n",
    "set_color_merge['R'] = set_color_merge['R'].apply(lambda x: int(x,16))\n",
    "set_color_merge['G'] = set_color_merge['G'].apply(lambda x: int(x,16))\n",
    "set_color_merge['B'] = set_color_merge['B'].apply(lambda x: int(x,16))\n",
    "\n",
    "set_color_merge['luminance'] = sqrt(0.299*(set_color_merge.R*set_color_merge.R)\n",
    "                                    +0.587*(set_color_merge.G*set_color_merge.G)\n",
    "                                    +0.114*(set_color_merge.B*set_color_merge.B))\n",
    "set_color_merge[200:210]"
   ]
  },
  {
   "cell_type": "code",
   "execution_count": 21,
   "metadata": {},
   "outputs": [
    {
     "data": {
      "text/plain": [
       "<matplotlib.axes._subplots.AxesSubplot at 0x7f738d8f5748>"
      ]
     },
     "execution_count": 21,
     "metadata": {},
     "output_type": "execute_result"
    },
    {
     "data": {
      "image/png": "[encoded data removed]",
      "text/plain": [
       "<Figure size 432x288 with 1 Axes>"
      ]
     },
     "metadata": {},
     "output_type": "display_data"
    }
   ],
   "source": [
    "set_color_merge.plot('year', 'luminance', kind='scatter')"
   ]
  },
  {
   "cell_type": "markdown",
   "metadata": {},
   "source": [
    "From 1980, there seems to be a much wider range of luminance. We assume that this is a point where they began to try out many new colors."
   ]
  },
  {
   "cell_type": "markdown",
   "metadata": {},
   "source": [
    "## Task B. Drop the bike\n",
    "\n",
    "*Los Angeles Metro* has been sharing publicly [anonymized *Metro Bike Share* trip data](https://bikeshare.metro.net/about/data/) under the [Open Database License (ODbL)](http://opendatacommons.org/licenses/odbl/1.0/).\n",
    "\n",
    "In this task you will again perform data wrangling and interpretation."
   ]
  },
  {
   "cell_type": "markdown",
   "metadata": {},
   "source": [
    "### B1. Loading phase\n",
    "Load the json file into a `DataFrame`.\n"
   ]
  },
  {
   "cell_type": "code",
   "execution_count": 22,
   "metadata": {},
   "outputs": [],
   "source": [
    "BIKES_DATA_FOLDER = DATA_FOLDER + '/bikes'"
   ]
  },
  {
   "cell_type": "code",
   "execution_count": 23,
   "metadata": {},
   "outputs": [],
   "source": [
    "bikes = pd.read_json(BIKES_DATA_FOLDER+'/metro-bike-share-trip-data.json.zip')"
   ]
  },
  {
   "cell_type": "markdown",
   "metadata": {},
   "source": [
    "### B2. Cleaning phase\n",
    "Describe the type and the value range of each attribute. Indicate and transform the attributes that are `Categorical`. Are there redundant columns in the dataset (i.e., are there columns whose value depends only on the value of another column)? What are the possible pitfalls of having such columns? Reduce *data redundancy* by extracting such columns to separate `DataFrames`. Which of the two formats (the initial one or the one with reduced data redundancy) is more susceptible to inconsistencies? At the end print for each `Dataframe` the *type of each column* and it's *shape*."
   ]
  },
  {
   "cell_type": "code",
   "execution_count": 24,
   "metadata": {},
   "outputs": [
    {
     "data": {
      "text/html": [
       "<div>\n",
       "<style scoped>\n",
       "    .dataframe tbody tr th:only-of-type {\n",
       "        vertical-align: middle;\n",
       "    }\n",
       "\n",
       "    .dataframe tbody tr th {\n",
       "        vertical-align: top;\n",
       "    }\n",
       "\n",
       "    .dataframe thead th {\n",
       "        text-align: right;\n",
       "    }\n",
       "</style>\n",
       "<table border=\"1\" class=\"dataframe\">\n",
       "  <thead>\n",
       "    <tr style=\"text-align: right;\">\n",
       "      <th></th>\n",
       "      <th>Bike_ID</th>\n",
       "      <th>Duration</th>\n",
       "      <th>End_Time</th>\n",
       "      <th>Ending_Station_ID</th>\n",
       "      <th>Ending_Station_Latitude</th>\n",
       "      <th>Ending_Station_Longitude</th>\n",
       "      <th>Passholder_Type</th>\n",
       "      <th>Plan_Duration</th>\n",
       "      <th>Start_Time</th>\n",
       "      <th>Starting_Station_ID</th>\n",
       "      <th>Starting_Station_Latitude</th>\n",
       "      <th>Starting_Station_Longitude</th>\n",
       "      <th>Trip_ID</th>\n",
       "      <th>Trip_Route_Category</th>\n",
       "    </tr>\n",
       "  </thead>\n",
       "  <tbody>\n",
       "    <tr>\n",
       "      <th>0</th>\n",
       "      <td>6281.0</td>\n",
       "      <td>180</td>\n",
       "      <td>2016-07-07T04:20:00</td>\n",
       "      <td>3014.0</td>\n",
       "      <td>34.056610</td>\n",
       "      <td>-118.23721</td>\n",
       "      <td>Monthly Pass</td>\n",
       "      <td>30.0</td>\n",
       "      <td>2016-07-07T04:17:00</td>\n",
       "      <td>3014.0</td>\n",
       "      <td>34.056610</td>\n",
       "      <td>-118.23721</td>\n",
       "      <td>1912818</td>\n",
       "      <td>Round Trip</td>\n",
       "    </tr>\n",
       "    <tr>\n",
       "      <th>1</th>\n",
       "      <td>6281.0</td>\n",
       "      <td>1980</td>\n",
       "      <td>2016-07-07T06:33:00</td>\n",
       "      <td>3014.0</td>\n",
       "      <td>34.056610</td>\n",
       "      <td>-118.23721</td>\n",
       "      <td>Monthly Pass</td>\n",
       "      <td>30.0</td>\n",
       "      <td>2016-07-07T06:00:00</td>\n",
       "      <td>3014.0</td>\n",
       "      <td>34.056610</td>\n",
       "      <td>-118.23721</td>\n",
       "      <td>1919661</td>\n",
       "      <td>Round Trip</td>\n",
       "    </tr>\n",
       "    <tr>\n",
       "      <th>2</th>\n",
       "      <td>5861.0</td>\n",
       "      <td>300</td>\n",
       "      <td>2016-07-07T10:37:00</td>\n",
       "      <td>3016.0</td>\n",
       "      <td>34.052898</td>\n",
       "      <td>-118.24156</td>\n",
       "      <td>Flex Pass</td>\n",
       "      <td>365.0</td>\n",
       "      <td>2016-07-07T10:32:00</td>\n",
       "      <td>3016.0</td>\n",
       "      <td>34.052898</td>\n",
       "      <td>-118.24156</td>\n",
       "      <td>1933383</td>\n",
       "      <td>Round Trip</td>\n",
       "    </tr>\n",
       "    <tr>\n",
       "      <th>3</th>\n",
       "      <td>5861.0</td>\n",
       "      <td>10860</td>\n",
       "      <td>2016-07-07T13:38:00</td>\n",
       "      <td>3016.0</td>\n",
       "      <td>34.052898</td>\n",
       "      <td>-118.24156</td>\n",
       "      <td>Flex Pass</td>\n",
       "      <td>365.0</td>\n",
       "      <td>2016-07-07T10:37:00</td>\n",
       "      <td>3016.0</td>\n",
       "      <td>34.052898</td>\n",
       "      <td>-118.24156</td>\n",
       "      <td>1944197</td>\n",
       "      <td>Round Trip</td>\n",
       "    </tr>\n",
       "    <tr>\n",
       "      <th>4</th>\n",
       "      <td>6674.0</td>\n",
       "      <td>420</td>\n",
       "      <td>2016-07-07T12:58:00</td>\n",
       "      <td>3032.0</td>\n",
       "      <td>34.049889</td>\n",
       "      <td>-118.25588</td>\n",
       "      <td>Walk-up</td>\n",
       "      <td>0.0</td>\n",
       "      <td>2016-07-07T12:51:00</td>\n",
       "      <td>3032.0</td>\n",
       "      <td>34.049889</td>\n",
       "      <td>-118.25588</td>\n",
       "      <td>1940317</td>\n",
       "      <td>Round Trip</td>\n",
       "    </tr>\n",
       "  </tbody>\n",
       "</table>\n",
       "</div>"
      ],
      "text/plain": [
       "   Bike_ID  Duration             End_Time  Ending_Station_ID  \\\n",
       "0   6281.0       180  2016-07-07T04:20:00             3014.0   \n",
       "1   6281.0      1980  2016-07-07T06:33:00             3014.0   \n",
       "2   5861.0       300  2016-07-07T10:37:00             3016.0   \n",
       "3   5861.0     10860  2016-07-07T13:38:00             3016.0   \n",
       "4   6674.0       420  2016-07-07T12:58:00             3032.0   \n",
       "\n",
       "   Ending_Station_Latitude  Ending_Station_Longitude Passholder_Type  \\\n",
       "0                34.056610                -118.23721    Monthly Pass   \n",
       "1                34.056610                -118.23721    Monthly Pass   \n",
       "2                34.052898                -118.24156       Flex Pass   \n",
       "3                34.052898                -118.24156       Flex Pass   \n",
       "4                34.049889                -118.25588         Walk-up   \n",
       "\n",
       "   Plan_Duration           Start_Time  Starting_Station_ID  \\\n",
       "0           30.0  2016-07-07T04:17:00               3014.0   \n",
       "1           30.0  2016-07-07T06:00:00               3014.0   \n",
       "2          365.0  2016-07-07T10:32:00               3016.0   \n",
       "3          365.0  2016-07-07T10:37:00               3016.0   \n",
       "4            0.0  2016-07-07T12:51:00               3032.0   \n",
       "\n",
       "   Starting_Station_Latitude  Starting_Station_Longitude  Trip_ID  \\\n",
       "0                  34.056610                  -118.23721  1912818   \n",
       "1                  34.056610                  -118.23721  1919661   \n",
       "2                  34.052898                  -118.24156  1933383   \n",
       "3                  34.052898                  -118.24156  1944197   \n",
       "4                  34.049889                  -118.25588  1940317   \n",
       "\n",
       "  Trip_Route_Category  \n",
       "0          Round Trip  \n",
       "1          Round Trip  \n",
       "2          Round Trip  \n",
       "3          Round Trip  \n",
       "4          Round Trip  "
      ]
     },
     "execution_count": 24,
     "metadata": {},
     "output_type": "execute_result"
    }
   ],
   "source": [
    "#the column names should have underscores rather than spaces\n",
    "bikes.columns = [c.replace(' ', '_') for c in bikes.columns]\n",
    "\n",
    "bikes.head()"
   ]
  },
  {
   "cell_type": "code",
   "execution_count": 25,
   "metadata": {},
   "outputs": [
    {
     "data": {
      "text/plain": [
       "Bike_ID                       float64\n",
       "Duration                        int64\n",
       "End_Time                       object\n",
       "Ending_Station_ID             float64\n",
       "Ending_Station_Latitude       float64\n",
       "Ending_Station_Longitude      float64\n",
       "Passholder_Type                object\n",
       "Plan_Duration                 float64\n",
       "Start_Time                     object\n",
       "Starting_Station_ID           float64\n",
       "Starting_Station_Latitude     float64\n",
       "Starting_Station_Longitude    float64\n",
       "Trip_ID                         int64\n",
       "Trip_Route_Category            object\n",
       "dtype: object"
      ]
     },
     "execution_count": 25,
     "metadata": {},
     "output_type": "execute_result"
    }
   ],
   "source": [
    "bikes.dtypes"
   ]
  },
  {
   "cell_type": "markdown",
   "metadata": {},
   "source": [
    "We see no reason to transform categorical values since they are already in string format after having imported the data."
   ]
  },
  {
   "cell_type": "markdown",
   "metadata": {},
   "source": [
    "A first glance at the min and max values for each attribute shows us that both longitude and latitude have 0.0 values (probably replacing unknowns). We would rather convert these into NaN values so we can have some valid statistics."
   ]
  },
  {
   "cell_type": "code",
   "execution_count": 26,
   "metadata": {},
   "outputs": [],
   "source": [
    "bikes.loc[bikes['Ending_Station_Latitude'] == 0.0] = np.nan\n",
    "bikes.loc[bikes['Ending_Station_Longitude'] == 0.0] = np.nan\n",
    "bikes.loc[bikes['Starting_Station_Latitude'] == 0.0] = np.nan\n",
    "bikes.loc[bikes['Starting_Station_Longitude'] == 0.0] = np.nan"
   ]
  },
  {
   "cell_type": "code",
   "execution_count": 27,
   "metadata": {},
   "outputs": [
    {
     "data": {
      "text/html": [
       "<div>\n",
       "<style scoped>\n",
       "    .dataframe tbody tr th:only-of-type {\n",
       "        vertical-align: middle;\n",
       "    }\n",
       "\n",
       "    .dataframe tbody tr th {\n",
       "        vertical-align: top;\n",
       "    }\n",
       "\n",
       "    .dataframe thead th {\n",
       "        text-align: right;\n",
       "    }\n",
       "</style>\n",
       "<table border=\"1\" class=\"dataframe\">\n",
       "  <thead>\n",
       "    <tr style=\"text-align: right;\">\n",
       "      <th></th>\n",
       "      <th>Bike_ID</th>\n",
       "      <th>Duration</th>\n",
       "      <th>Ending_Station_ID</th>\n",
       "      <th>Ending_Station_Latitude</th>\n",
       "      <th>Ending_Station_Longitude</th>\n",
       "      <th>Plan_Duration</th>\n",
       "      <th>Starting_Station_ID</th>\n",
       "      <th>Starting_Station_Latitude</th>\n",
       "      <th>Starting_Station_Longitude</th>\n",
       "      <th>Trip_ID</th>\n",
       "    </tr>\n",
       "  </thead>\n",
       "  <tbody>\n",
       "    <tr>\n",
       "      <th>count</th>\n",
       "      <td>132357.000000</td>\n",
       "      <td>132367.000000</td>\n",
       "      <td>132271.000000</td>\n",
       "      <td>131316.000000</td>\n",
       "      <td>131316.000000</td>\n",
       "      <td>131601.000000</td>\n",
       "      <td>132348.000000</td>\n",
       "      <td>132319.000000</td>\n",
       "      <td>132319.000000</td>\n",
       "      <td>1.323670e+05</td>\n",
       "    </tr>\n",
       "    <tr>\n",
       "      <th>mean</th>\n",
       "      <td>6193.625868</td>\n",
       "      <td>1554.955389</td>\n",
       "      <td>3042.000174</td>\n",
       "      <td>34.047054</td>\n",
       "      <td>-118.249846</td>\n",
       "      <td>44.828231</td>\n",
       "      <td>3042.760744</td>\n",
       "      <td>34.047539</td>\n",
       "      <td>-118.250119</td>\n",
       "      <td>1.153309e+07</td>\n",
       "    </tr>\n",
       "    <tr>\n",
       "      <th>std</th>\n",
       "      <td>293.628734</td>\n",
       "      <td>5814.881470</td>\n",
       "      <td>38.010906</td>\n",
       "      <td>0.006295</td>\n",
       "      <td>0.012057</td>\n",
       "      <td>90.426658</td>\n",
       "      <td>33.921949</td>\n",
       "      <td>0.006374</td>\n",
       "      <td>0.011563</td>\n",
       "      <td>6.369207e+06</td>\n",
       "    </tr>\n",
       "    <tr>\n",
       "      <th>min</th>\n",
       "      <td>1349.000000</td>\n",
       "      <td>60.000000</td>\n",
       "      <td>3000.000000</td>\n",
       "      <td>33.987381</td>\n",
       "      <td>-118.472832</td>\n",
       "      <td>0.000000</td>\n",
       "      <td>3000.000000</td>\n",
       "      <td>33.987381</td>\n",
       "      <td>-118.472832</td>\n",
       "      <td>1.912818e+06</td>\n",
       "    </tr>\n",
       "    <tr>\n",
       "      <th>25%</th>\n",
       "      <td>5953.000000</td>\n",
       "      <td>360.000000</td>\n",
       "      <td>3022.000000</td>\n",
       "      <td>34.044159</td>\n",
       "      <td>-118.256981</td>\n",
       "      <td>0.000000</td>\n",
       "      <td>3024.000000</td>\n",
       "      <td>34.044170</td>\n",
       "      <td>-118.256980</td>\n",
       "      <td>5.060840e+06</td>\n",
       "    </tr>\n",
       "    <tr>\n",
       "      <th>50%</th>\n",
       "      <td>6186.000000</td>\n",
       "      <td>600.000000</td>\n",
       "      <td>3038.000000</td>\n",
       "      <td>34.046810</td>\n",
       "      <td>-118.250954</td>\n",
       "      <td>30.000000</td>\n",
       "      <td>3040.000000</td>\n",
       "      <td>34.046822</td>\n",
       "      <td>-118.250954</td>\n",
       "      <td>1.044344e+07</td>\n",
       "    </tr>\n",
       "    <tr>\n",
       "      <th>75%</th>\n",
       "      <td>6434.000000</td>\n",
       "      <td>1080.000000</td>\n",
       "      <td>3063.000000</td>\n",
       "      <td>34.050480</td>\n",
       "      <td>-118.238810</td>\n",
       "      <td>30.000000</td>\n",
       "      <td>3063.000000</td>\n",
       "      <td>34.050880</td>\n",
       "      <td>-118.241562</td>\n",
       "      <td>1.720879e+07</td>\n",
       "    </tr>\n",
       "    <tr>\n",
       "      <th>max</th>\n",
       "      <td>6728.000000</td>\n",
       "      <td>86400.000000</td>\n",
       "      <td>4108.000000</td>\n",
       "      <td>34.064281</td>\n",
       "      <td>-118.231277</td>\n",
       "      <td>365.000000</td>\n",
       "      <td>4108.000000</td>\n",
       "      <td>34.064281</td>\n",
       "      <td>-118.231277</td>\n",
       "      <td>2.379422e+07</td>\n",
       "    </tr>\n",
       "  </tbody>\n",
       "</table>\n",
       "</div>"
      ],
      "text/plain": [
       "             Bike_ID       Duration  Ending_Station_ID  \\\n",
       "count  132357.000000  132367.000000      132271.000000   \n",
       "mean     6193.625868    1554.955389        3042.000174   \n",
       "std       293.628734    5814.881470          38.010906   \n",
       "min      1349.000000      60.000000        3000.000000   \n",
       "25%      5953.000000     360.000000        3022.000000   \n",
       "50%      6186.000000     600.000000        3038.000000   \n",
       "75%      6434.000000    1080.000000        3063.000000   \n",
       "max      6728.000000   86400.000000        4108.000000   \n",
       "\n",
       "       Ending_Station_Latitude  Ending_Station_Longitude  Plan_Duration  \\\n",
       "count            131316.000000             131316.000000  131601.000000   \n",
       "mean                 34.047054               -118.249846      44.828231   \n",
       "std                   0.006295                  0.012057      90.426658   \n",
       "min                  33.987381               -118.472832       0.000000   \n",
       "25%                  34.044159               -118.256981       0.000000   \n",
       "50%                  34.046810               -118.250954      30.000000   \n",
       "75%                  34.050480               -118.238810      30.000000   \n",
       "max                  34.064281               -118.231277     365.000000   \n",
       "\n",
       "       Starting_Station_ID  Starting_Station_Latitude  \\\n",
       "count        132348.000000              132319.000000   \n",
       "mean           3042.760744                  34.047539   \n",
       "std              33.921949                   0.006374   \n",
       "min            3000.000000                  33.987381   \n",
       "25%            3024.000000                  34.044170   \n",
       "50%            3040.000000                  34.046822   \n",
       "75%            3063.000000                  34.050880   \n",
       "max            4108.000000                  34.064281   \n",
       "\n",
       "       Starting_Station_Longitude       Trip_ID  \n",
       "count               132319.000000  1.323670e+05  \n",
       "mean                  -118.250119  1.153309e+07  \n",
       "std                      0.011563  6.369207e+06  \n",
       "min                   -118.472832  1.912818e+06  \n",
       "25%                   -118.256980  5.060840e+06  \n",
       "50%                   -118.250954  1.044344e+07  \n",
       "75%                   -118.241562  1.720879e+07  \n",
       "max                   -118.231277  2.379422e+07  "
      ]
     },
     "execution_count": 27,
     "metadata": {},
     "output_type": "execute_result"
    }
   ],
   "source": [
    "bikes.describe()"
   ]
  },
  {
   "cell_type": "markdown",
   "metadata": {},
   "source": [
    "Redundant columns:\n",
    "\n",
    "Duration is redundant with end and start times; we can remove End_Time from the dataframe and still have the necessary information.\n",
    "\n",
    "Longitudes and latitudes are unncessary since we have the start and end station IDs. These columns aren't really redundant, but we have no reason to keep them in the original dataset, so we'll set them aside.\n",
    "\n",
    "The route category is also redundant, since we can tell if a trip was round trip based on the starting and ending station IDs."
   ]
  },
  {
   "cell_type": "code",
   "execution_count": 28,
   "metadata": {},
   "outputs": [
    {
     "data": {
      "text/html": [
       "<div>\n",
       "<style scoped>\n",
       "    .dataframe tbody tr th:only-of-type {\n",
       "        vertical-align: middle;\n",
       "    }\n",
       "\n",
       "    .dataframe tbody tr th {\n",
       "        vertical-align: top;\n",
       "    }\n",
       "\n",
       "    .dataframe thead th {\n",
       "        text-align: right;\n",
       "    }\n",
       "</style>\n",
       "<table border=\"1\" class=\"dataframe\">\n",
       "  <thead>\n",
       "    <tr style=\"text-align: right;\">\n",
       "      <th></th>\n",
       "      <th>Bike_ID</th>\n",
       "      <th>Duration</th>\n",
       "      <th>Ending_Station_ID</th>\n",
       "      <th>Passholder_Type</th>\n",
       "      <th>Plan_Duration</th>\n",
       "      <th>Start_Time</th>\n",
       "      <th>Starting_Station_ID</th>\n",
       "      <th>Trip_ID</th>\n",
       "    </tr>\n",
       "  </thead>\n",
       "  <tbody>\n",
       "    <tr>\n",
       "      <th>0</th>\n",
       "      <td>6281.0</td>\n",
       "      <td>180.0</td>\n",
       "      <td>3014.0</td>\n",
       "      <td>Monthly Pass</td>\n",
       "      <td>30.0</td>\n",
       "      <td>2016-07-07T04:17:00</td>\n",
       "      <td>3014.0</td>\n",
       "      <td>1912818.0</td>\n",
       "    </tr>\n",
       "    <tr>\n",
       "      <th>1</th>\n",
       "      <td>6281.0</td>\n",
       "      <td>1980.0</td>\n",
       "      <td>3014.0</td>\n",
       "      <td>Monthly Pass</td>\n",
       "      <td>30.0</td>\n",
       "      <td>2016-07-07T06:00:00</td>\n",
       "      <td>3014.0</td>\n",
       "      <td>1919661.0</td>\n",
       "    </tr>\n",
       "    <tr>\n",
       "      <th>2</th>\n",
       "      <td>5861.0</td>\n",
       "      <td>300.0</td>\n",
       "      <td>3016.0</td>\n",
       "      <td>Flex Pass</td>\n",
       "      <td>365.0</td>\n",
       "      <td>2016-07-07T10:32:00</td>\n",
       "      <td>3016.0</td>\n",
       "      <td>1933383.0</td>\n",
       "    </tr>\n",
       "    <tr>\n",
       "      <th>3</th>\n",
       "      <td>5861.0</td>\n",
       "      <td>10860.0</td>\n",
       "      <td>3016.0</td>\n",
       "      <td>Flex Pass</td>\n",
       "      <td>365.0</td>\n",
       "      <td>2016-07-07T10:37:00</td>\n",
       "      <td>3016.0</td>\n",
       "      <td>1944197.0</td>\n",
       "    </tr>\n",
       "    <tr>\n",
       "      <th>4</th>\n",
       "      <td>6674.0</td>\n",
       "      <td>420.0</td>\n",
       "      <td>3032.0</td>\n",
       "      <td>Walk-up</td>\n",
       "      <td>0.0</td>\n",
       "      <td>2016-07-07T12:51:00</td>\n",
       "      <td>3032.0</td>\n",
       "      <td>1940317.0</td>\n",
       "    </tr>\n",
       "  </tbody>\n",
       "</table>\n",
       "</div>"
      ],
      "text/plain": [
       "   Bike_ID  Duration  Ending_Station_ID Passholder_Type  Plan_Duration  \\\n",
       "0   6281.0     180.0             3014.0    Monthly Pass           30.0   \n",
       "1   6281.0    1980.0             3014.0    Monthly Pass           30.0   \n",
       "2   5861.0     300.0             3016.0       Flex Pass          365.0   \n",
       "3   5861.0   10860.0             3016.0       Flex Pass          365.0   \n",
       "4   6674.0     420.0             3032.0         Walk-up            0.0   \n",
       "\n",
       "            Start_Time  Starting_Station_ID    Trip_ID  \n",
       "0  2016-07-07T04:17:00               3014.0  1912818.0  \n",
       "1  2016-07-07T06:00:00               3014.0  1919661.0  \n",
       "2  2016-07-07T10:32:00               3016.0  1933383.0  \n",
       "3  2016-07-07T10:37:00               3016.0  1944197.0  \n",
       "4  2016-07-07T12:51:00               3032.0  1940317.0  "
      ]
     },
     "execution_count": 28,
     "metadata": {},
     "output_type": "execute_result"
    }
   ],
   "source": [
    "#Trip ID is placed into the dataframe of redundant columns so we can still link these values to a given trip\n",
    "redundant_columns = pd.DataFrame(data={'Trip_ID':bikes.Trip_ID, 'End_Time':bikes.End_Time, \n",
    "                                       'End_Latitude':bikes.Ending_Station_Latitude, \n",
    "                                       'End_Longitude':bikes.Ending_Station_Longitude, \n",
    "                                       'Start_Latitude':bikes.Starting_Station_Latitude, \n",
    "                                       'Start_Longitude':bikes.Starting_Station_Longitude, \n",
    "                                       'Trip_Category':bikes.Trip_Route_Category})\n",
    "bikes.drop(columns=['End_Time', 'Ending_Station_Latitude', 'Ending_Station_Longitude', 'Starting_Station_Latitude', \n",
    "                   'Starting_Station_Longitude', 'Trip_Route_Category'], inplace=True)\n",
    "bikes.head()"
   ]
  },
  {
   "cell_type": "markdown",
   "metadata": {},
   "source": [
    "Redundant columns can be dangerous, since if one of two related columns is modified, the other isn't necessarily, and we can end up with contradictory data. The reduced format without redundant columns is much more stable."
   ]
  },
  {
   "cell_type": "code",
   "execution_count": 29,
   "metadata": {},
   "outputs": [
    {
     "name": "stdout",
     "output_type": "stream",
     "text": [
      "(132427, 8)\n",
      "(132427, 7)\n"
     ]
    }
   ],
   "source": [
    "print(bikes.shape)\n",
    "print(redundant_columns.shape)"
   ]
  },
  {
   "cell_type": "code",
   "execution_count": 30,
   "metadata": {},
   "outputs": [
    {
     "data": {
      "text/plain": [
       "Bike_ID                float64\n",
       "Duration               float64\n",
       "Ending_Station_ID      float64\n",
       "Passholder_Type         object\n",
       "Plan_Duration          float64\n",
       "Start_Time              object\n",
       "Starting_Station_ID    float64\n",
       "Trip_ID                float64\n",
       "dtype: object"
      ]
     },
     "execution_count": 30,
     "metadata": {},
     "output_type": "execute_result"
    }
   ],
   "source": [
    "bikes.dtypes"
   ]
  },
  {
   "cell_type": "code",
   "execution_count": 31,
   "metadata": {},
   "outputs": [
    {
     "data": {
      "text/plain": [
       "Trip_ID            float64\n",
       "End_Time            object\n",
       "End_Latitude       float64\n",
       "End_Longitude      float64\n",
       "Start_Latitude     float64\n",
       "Start_Longitude    float64\n",
       "Trip_Category       object\n",
       "dtype: object"
      ]
     },
     "execution_count": 31,
     "metadata": {},
     "output_type": "execute_result"
    }
   ],
   "source": [
    "redundant_columns.dtypes"
   ]
  },
  {
   "cell_type": "markdown",
   "metadata": {},
   "source": [
    "### B3. Querying phase\n",
    "Answer the following queries using the functionality of `Pandas`.\n",
    "\n",
    "1. Plot the *distribution* of the number of outgoing trips from each station in a histogram with 20 bins (Hint: each bin describes a range of counts, not stations).\n",
    "* Plot histograms for the *duration* and *trip starting hour in the day* attributes. For both the *duration*  and the *trip starting hour* use *discrete 1-hour intervals*. What do you observe in each plot? What are some popular values in the *duration* plot? Explain the local maxima and the trends you observe on the *trip starting hour* plot based on human behavior.\n",
    "* For each *trip route category*, calculate the proportion of trips by *passholder type* and present your results in *a stacked bar chart with normalized height*.\n",
    "* Considering only trips that begin in the morning hours (before noon), plot in *a single bar chart* the proportion of trips by *passholder type* and *trip route category*. Explain any outliers you observe.\n",
    "* Separate the hours of the day into two intervals that have (approximately) the same number of bikes leaving the stations. For each of the two intervals calculate the proportion of trips by *passholder type* and *trip route category*. Present your results in a `DataFrame` which has a unique, non-composite index. Does the proportion of trips depend on whether it is the first or second hour interval? Would the company have any significant benefit by creating a more complex paying scheme where monthly pass users would pay less in the first interval and (equally) more on the second one? Assume that the number of trips per interval will not change if the scheme changes."
   ]
  },
  {
   "cell_type": "markdown",
   "metadata": {},
   "source": [
    "**1. Outgoing trips per station **\n",
    "\n",
    "We'd like to sum the number of starting station IDs"
   ]
  },
  {
   "cell_type": "code",
   "execution_count": 32,
   "metadata": {},
   "outputs": [
    {
     "data": {
      "text/plain": [
       "<matplotlib.axes._subplots.AxesSubplot at 0x7f738d82d7f0>"
      ]
     },
     "execution_count": 32,
     "metadata": {},
     "output_type": "execute_result"
    },
    {
     "data": {
      "image/png": "[encoded data removed]",
      "text/plain": [
       "<Figure size 504x360 with 1 Axes>"
      ]
     },
     "metadata": {},
     "output_type": "display_data"
    }
   ],
   "source": [
    "outgoing_trips = bikes['Starting_Station_ID'].value_counts()\n",
    "plt.figure(figsize=(7,5))\n",
    "outgoing_trips.hist(bins=20)"
   ]
  },
  {
   "cell_type": "markdown",
   "metadata": {},
   "source": [
    "**2. Histograms for trip duration and starting hour **"
   ]
  },
  {
   "cell_type": "code",
   "execution_count": 33,
   "metadata": {},
   "outputs": [
    {
     "data": {
      "text/plain": [
       "<matplotlib.axes._subplots.AxesSubplot at 0x7f738d7be080>"
      ]
     },
     "execution_count": 33,
     "metadata": {},
     "output_type": "execute_result"
    },
    {
     "data": {
      "image/png": "[encoded data removed]",
      "text/plain": [
       "<Figure size 432x288 with 1 Axes>"
      ]
     },
     "metadata": {},
     "output_type": "display_data"
    }
   ],
   "source": [
    "#Conversion to hour before plotting\n",
    "duration_h = bikes['Duration'] / (60*60)\n",
    "duration_h.hist(bins=20)"
   ]
  },
  {
   "cell_type": "markdown",
   "metadata": {},
   "source": [
    "The vast majority of trips last less than an hour"
   ]
  },
  {
   "cell_type": "code",
   "execution_count": 34,
   "metadata": {},
   "outputs": [
    {
     "data": {
      "text/plain": [
       "<matplotlib.axes._subplots.AxesSubplot at 0x7f738d7d13c8>"
      ]
     },
     "execution_count": 34,
     "metadata": {},
     "output_type": "execute_result"
    },
    {
     "data": {
      "image/png": "[encoded data removed]",
      "text/plain": [
       "<Figure size 432x288 with 1 Axes>"
      ]
     },
     "metadata": {},
     "output_type": "display_data"
    }
   ],
   "source": [
    "start_time = bikes['Start_Time'].astype('datetime64')\n",
    "start_time.groupby(start_time.dt.hour).count().plot(kind='bar')"
   ]
  },
  {
   "cell_type": "markdown",
   "metadata": {},
   "source": [
    "Local maxima appear around 8:00, 12-13:00, and 17:00. These are all times when people are commonly in transit; to go to work, to go out to lunch, and to return home at the end of the day."
   ]
  },
  {
   "cell_type": "markdown",
   "metadata": {},
   "source": [
    "**3. Proportion of trips by passholder type, for each route category, as a stacked bar chart. **"
   ]
  },
  {
   "cell_type": "code",
   "execution_count": 35,
   "metadata": {},
   "outputs": [],
   "source": [
    "bikes['Trip_Category'] = redundant_columns['Trip_Category']"
   ]
  },
  {
   "cell_type": "code",
   "execution_count": 36,
   "metadata": {},
   "outputs": [
    {
     "data": {
      "text/html": [
       "<div>\n",
       "<style scoped>\n",
       "    .dataframe tbody tr th:only-of-type {\n",
       "        vertical-align: middle;\n",
       "    }\n",
       "\n",
       "    .dataframe tbody tr th {\n",
       "        vertical-align: top;\n",
       "    }\n",
       "\n",
       "    .dataframe thead th {\n",
       "        text-align: right;\n",
       "    }\n",
       "</style>\n",
       "<table border=\"1\" class=\"dataframe\">\n",
       "  <thead>\n",
       "    <tr style=\"text-align: right;\">\n",
       "      <th></th>\n",
       "      <th>Passholder_Type</th>\n",
       "      <th>Bike_ID</th>\n",
       "      <th>Duration</th>\n",
       "      <th>Ending_Station_ID</th>\n",
       "      <th>Plan_Duration</th>\n",
       "      <th>Start_Time</th>\n",
       "      <th>Starting_Station_ID</th>\n",
       "      <th>Trip_ID</th>\n",
       "      <th>Trip_Category</th>\n",
       "    </tr>\n",
       "  </thead>\n",
       "  <tbody>\n",
       "    <tr>\n",
       "      <th>0</th>\n",
       "      <td>Flex Pass</td>\n",
       "      <td>9030</td>\n",
       "      <td>9030</td>\n",
       "      <td>9030</td>\n",
       "      <td>9030</td>\n",
       "      <td>9030</td>\n",
       "      <td>9030</td>\n",
       "      <td>9030</td>\n",
       "      <td>9030</td>\n",
       "    </tr>\n",
       "    <tr>\n",
       "      <th>1</th>\n",
       "      <td>Monthly Pass</td>\n",
       "      <td>77152</td>\n",
       "      <td>77152</td>\n",
       "      <td>77152</td>\n",
       "      <td>77152</td>\n",
       "      <td>77152</td>\n",
       "      <td>77152</td>\n",
       "      <td>77152</td>\n",
       "      <td>77152</td>\n",
       "    </tr>\n",
       "    <tr>\n",
       "      <th>2</th>\n",
       "      <td>Walk-up</td>\n",
       "      <td>32747</td>\n",
       "      <td>32747</td>\n",
       "      <td>32747</td>\n",
       "      <td>32747</td>\n",
       "      <td>32747</td>\n",
       "      <td>32747</td>\n",
       "      <td>32747</td>\n",
       "      <td>32747</td>\n",
       "    </tr>\n",
       "  </tbody>\n",
       "</table>\n",
       "</div>"
      ],
      "text/plain": [
       "  Passholder_Type  Bike_ID  Duration  Ending_Station_ID  Plan_Duration  \\\n",
       "0       Flex Pass     9030      9030               9030           9030   \n",
       "1    Monthly Pass    77152     77152              77152          77152   \n",
       "2         Walk-up    32747     32747              32747          32747   \n",
       "\n",
       "   Start_Time  Starting_Station_ID  Trip_ID  Trip_Category  \n",
       "0        9030                 9030     9030           9030  \n",
       "1       77152                77152    77152          77152  \n",
       "2       32747                32747    32747          32747  "
      ]
     },
     "execution_count": 36,
     "metadata": {},
     "output_type": "execute_result"
    }
   ],
   "source": [
    "one_way = bikes.where(bikes.Trip_Category == 'One Way')\n",
    "one_way.dropna(inplace=True)\n",
    "one_way_passholders = one_way.groupby('Passholder_Type').count()\n",
    "one_way_passholders.reset_index(drop=False, inplace=True)\n",
    "one_way_passholders"
   ]
  },
  {
   "cell_type": "code",
   "execution_count": 37,
   "metadata": {},
   "outputs": [
    {
     "data": {
      "text/html": [
       "<div>\n",
       "<style scoped>\n",
       "    .dataframe tbody tr th:only-of-type {\n",
       "        vertical-align: middle;\n",
       "    }\n",
       "\n",
       "    .dataframe tbody tr th {\n",
       "        vertical-align: top;\n",
       "    }\n",
       "\n",
       "    .dataframe thead th {\n",
       "        text-align: right;\n",
       "    }\n",
       "</style>\n",
       "<table border=\"1\" class=\"dataframe\">\n",
       "  <thead>\n",
       "    <tr style=\"text-align: right;\">\n",
       "      <th></th>\n",
       "      <th>Passholder_Type</th>\n",
       "      <th>Bike_ID</th>\n",
       "      <th>Duration</th>\n",
       "      <th>Ending_Station_ID</th>\n",
       "      <th>Plan_Duration</th>\n",
       "      <th>Start_Time</th>\n",
       "      <th>Starting_Station_ID</th>\n",
       "      <th>Trip_ID</th>\n",
       "      <th>Trip_Category</th>\n",
       "    </tr>\n",
       "  </thead>\n",
       "  <tbody>\n",
       "    <tr>\n",
       "      <th>0</th>\n",
       "      <td>Flex Pass</td>\n",
       "      <td>483</td>\n",
       "      <td>483</td>\n",
       "      <td>483</td>\n",
       "      <td>483</td>\n",
       "      <td>483</td>\n",
       "      <td>483</td>\n",
       "      <td>483</td>\n",
       "      <td>483</td>\n",
       "    </tr>\n",
       "    <tr>\n",
       "      <th>1</th>\n",
       "      <td>Monthly Pass</td>\n",
       "      <td>3690</td>\n",
       "      <td>3690</td>\n",
       "      <td>3690</td>\n",
       "      <td>3690</td>\n",
       "      <td>3690</td>\n",
       "      <td>3690</td>\n",
       "      <td>3690</td>\n",
       "      <td>3690</td>\n",
       "    </tr>\n",
       "    <tr>\n",
       "      <th>2</th>\n",
       "      <td>Walk-up</td>\n",
       "      <td>8439</td>\n",
       "      <td>8439</td>\n",
       "      <td>8439</td>\n",
       "      <td>8439</td>\n",
       "      <td>8439</td>\n",
       "      <td>8439</td>\n",
       "      <td>8439</td>\n",
       "      <td>8439</td>\n",
       "    </tr>\n",
       "  </tbody>\n",
       "</table>\n",
       "</div>"
      ],
      "text/plain": [
       "  Passholder_Type  Bike_ID  Duration  Ending_Station_ID  Plan_Duration  \\\n",
       "0       Flex Pass      483       483                483            483   \n",
       "1    Monthly Pass     3690      3690               3690           3690   \n",
       "2         Walk-up     8439      8439               8439           8439   \n",
       "\n",
       "   Start_Time  Starting_Station_ID  Trip_ID  Trip_Category  \n",
       "0         483                  483      483            483  \n",
       "1        3690                 3690     3690           3690  \n",
       "2        8439                 8439     8439           8439  "
      ]
     },
     "execution_count": 37,
     "metadata": {},
     "output_type": "execute_result"
    }
   ],
   "source": [
    "round_trip = bikes.where(bikes.Trip_Category == 'Round Trip')\n",
    "round_trip.dropna(inplace=True)\n",
    "round_trip_passholders = round_trip.groupby('Passholder_Type').count()\n",
    "round_trip_passholders.reset_index(drop=False, inplace=True)\n",
    "round_trip_passholders"
   ]
  },
  {
   "cell_type": "code",
   "execution_count": 38,
   "metadata": {},
   "outputs": [],
   "source": [
    "passholders = pd.DataFrame()\n",
    "passholders = passholders.append(one_way_passholders['Trip_Category'], ignore_index=True)\n",
    "passholders = passholders.append(round_trip_passholders['Trip_Category'], ignore_index=True)\n",
    "#passholders = passholders.transpose()\n",
    "#passholders.set_index(['One Way', 'Round Trip'], inplace=True)\n",
    "passholders.rename(index={0:'One Way', 1:'Round Trip'},\n",
    "                   columns={0:'Flex Pass', 1:'Monthly Pass', 2:'Walk-up'}, inplace=True)"
   ]
  },
  {
   "cell_type": "code",
   "execution_count": 39,
   "metadata": {},
   "outputs": [
    {
     "data": {
      "text/html": [
       "<div>\n",
       "<style scoped>\n",
       "    .dataframe tbody tr th:only-of-type {\n",
       "        vertical-align: middle;\n",
       "    }\n",
       "\n",
       "    .dataframe tbody tr th {\n",
       "        vertical-align: top;\n",
       "    }\n",
       "\n",
       "    .dataframe thead th {\n",
       "        text-align: right;\n",
       "    }\n",
       "</style>\n",
       "<table border=\"1\" class=\"dataframe\">\n",
       "  <thead>\n",
       "    <tr style=\"text-align: right;\">\n",
       "      <th></th>\n",
       "      <th>Flex Pass</th>\n",
       "      <th>Monthly Pass</th>\n",
       "      <th>Walk-up</th>\n",
       "    </tr>\n",
       "  </thead>\n",
       "  <tbody>\n",
       "    <tr>\n",
       "      <th>One Way</th>\n",
       "      <td>9030.0</td>\n",
       "      <td>77152.0</td>\n",
       "      <td>32747.0</td>\n",
       "    </tr>\n",
       "    <tr>\n",
       "      <th>Round Trip</th>\n",
       "      <td>483.0</td>\n",
       "      <td>3690.0</td>\n",
       "      <td>8439.0</td>\n",
       "    </tr>\n",
       "  </tbody>\n",
       "</table>\n",
       "</div>"
      ],
      "text/plain": [
       "            Flex Pass  Monthly Pass  Walk-up\n",
       "One Way        9030.0       77152.0  32747.0\n",
       "Round Trip      483.0        3690.0   8439.0"
      ]
     },
     "execution_count": 39,
     "metadata": {},
     "output_type": "execute_result"
    }
   ],
   "source": [
    "passholders"
   ]
  },
  {
   "cell_type": "code",
   "execution_count": 40,
   "metadata": {},
   "outputs": [
    {
     "data": {
      "text/plain": [
       "Text(0.5,1,'Normalized graph of types of passes per type of trip')"
      ]
     },
     "execution_count": 40,
     "metadata": {},
     "output_type": "execute_result"
    },
    {
     "data": {
      "image/png": "[encoded data removed]",
      "text/plain": [
       "<Figure size 432x288 with 1 Axes>"
      ]
     },
     "metadata": {},
     "output_type": "display_data"
    }
   ],
   "source": [
    "passholders = passholders.div(passholders.sum(axis=1), axis=0)\n",
    "passholders.plot(kind='bar', stacked=True)\n",
    "pyplot.title('Normalized graph of types of passes per type of trip')"
   ]
  },
  {
   "cell_type": "markdown",
   "metadata": {},
   "source": [
    "Round trips are frequently walk-ups, while one-way trips are primarily taken on monthly passes.\n",
    "\n",
    "There is actually a third type of pass: the staff annual, but the type of trip taken with these passes is undefined so they were removed from the passholders dataframe when we dropped rows with NaN values."
   ]
  },
  {
   "cell_type": "markdown",
   "metadata": {},
   "source": [
    "**4. For morning trips, plot the proportion of trips by passholder type and route category. **\n",
    "\n",
    "First we want to extract only trips that start before noon."
   ]
  },
  {
   "cell_type": "code",
   "execution_count": 41,
   "metadata": {},
   "outputs": [],
   "source": [
    "#Trip information for trips starting between 0:00 and 12:00\n",
    "morning = pd.to_datetime(bikes[\"Start_Time\"])\n",
    "morning = bikes[(morning.dt.hour>0) & (morning.dt.hour<12)]"
   ]
  },
  {
   "cell_type": "markdown",
   "metadata": {},
   "source": [
    "The following instructions are so unclear that I have no idea what sort of graph is expected. The sentance has no meaning. Perhaps we would like bar graphs with the number of trips per passholder type, and another similar graph with trips per route category. Why we could want these on the same graph is an entirely different question."
   ]
  },
  {
   "cell_type": "code",
   "execution_count": 42,
   "metadata": {},
   "outputs": [
    {
     "data": {
      "text/plain": [
       "Monthly Pass    24890\n",
       "Walk-up          8676\n",
       "Flex Pass        2675\n",
       "Staff Annual      133\n",
       "Name: Passholder_Type, dtype: int64"
      ]
     },
     "execution_count": 42,
     "metadata": {},
     "output_type": "execute_result"
    }
   ],
   "source": [
    "#number of trips per passholder type\n",
    "morning_passholders = morning.Passholder_Type.value_counts()\n",
    "morning_passholders"
   ]
  },
  {
   "cell_type": "code",
   "execution_count": 43,
   "metadata": {},
   "outputs": [
    {
     "data": {
      "text/plain": [
       "One Way       33315\n",
       "Round Trip     3059\n",
       "Name: Trip_Category, dtype: int64"
      ]
     },
     "execution_count": 43,
     "metadata": {},
     "output_type": "execute_result"
    }
   ],
   "source": [
    "#number of trips per route category\n",
    "morning_trips = morning.Trip_Category.value_counts()\n",
    "morning_trips"
   ]
  },
  {
   "cell_type": "code",
   "execution_count": 44,
   "metadata": {},
   "outputs": [
    {
     "data": {
      "text/plain": [
       "Text(0.5,1,'Proportion of morning trips by type of pass')"
      ]
     },
     "execution_count": 44,
     "metadata": {},
     "output_type": "execute_result"
    },
    {
     "data": {
      "image/png": "[encoded data removed]",
      "text/plain": [
       "<Figure size 432x288 with 1 Axes>"
      ]
     },
     "metadata": {},
     "output_type": "display_data"
    }
   ],
   "source": [
    "morning_passholders.plot(kind='bar')\n",
    "pyplot.title('Proportion of morning trips by type of pass')"
   ]
  },
  {
   "cell_type": "code",
   "execution_count": 45,
   "metadata": {},
   "outputs": [
    {
     "data": {
      "text/plain": [
       "Text(0.5,1,'Proportion of morning trips by type')"
      ]
     },
     "execution_count": 45,
     "metadata": {},
     "output_type": "execute_result"
    },
    {
     "data": {
      "image/png": "[encoded data removed]",
      "text/plain": [
       "<Figure size 432x288 with 1 Axes>"
      ]
     },
     "metadata": {},
     "output_type": "display_data"
    }
   ],
   "source": [
    "morning_trips.plot(kind='bar')\n",
    "pyplot.title('Proportion of morning trips by type')"
   ]
  },
  {
   "cell_type": "markdown",
   "metadata": {},
   "source": [
    "Most trips are one-way, occuring with a monthly pass. This is perfectly reasonable since the majority of trips will be taken to work."
   ]
  },
  {
   "cell_type": "markdown",
   "metadata": {},
   "source": [
    "**5. Calculate proportion of trips as before in two intervals with the same number of bikes leaving the station **\n",
    "\n",
    "The data must be separated into two sets, based on time of day, with approximately the same number of bikes leaving the station. For each interval we'll calculate the proportion of trips by passholder type and trip route category. The resultant dataframe should have a unique index.\n",
    "We wonder if the proportion of trips depends on the time interval. Would the company have any significant benefit by creating a more complex paying scheme where monthly pass users would pay less in the first interval and (equally) more on the second one? Assume that the number of trips per interval will not change if the scheme changes."
   ]
  },
  {
   "cell_type": "code",
   "execution_count": 46,
   "metadata": {},
   "outputs": [],
   "source": [
    "bikes['Start_Time'] = bikes['Start_Time'].astype(\"datetime64\")"
   ]
  },
  {
   "cell_type": "code",
   "execution_count": 47,
   "metadata": {},
   "outputs": [
    {
     "data": {
      "text/plain": [
       "14.070319641602515"
      ]
     },
     "execution_count": 47,
     "metadata": {},
     "output_type": "execute_result"
    }
   ],
   "source": [
    "mean(bikes.Start_Time.dt.hour)"
   ]
  },
  {
   "cell_type": "code",
   "execution_count": 48,
   "metadata": {},
   "outputs": [],
   "source": [
    "interval1 = bikes[(bikes.Start_Time.dt.hour>0) & (bikes.Start_Time.dt.hour<14)]\n",
    "interval2 = bikes[(bikes.Start_Time.dt.hour<24) & (bikes.Start_Time.dt.hour>=14)]"
   ]
  },
  {
   "cell_type": "code",
   "execution_count": 49,
   "metadata": {},
   "outputs": [
    {
     "data": {
      "text/plain": [
       "True"
      ]
     },
     "execution_count": 49,
     "metadata": {},
     "output_type": "execute_result"
    }
   ],
   "source": [
    "interval1.set_index(interval1.Trip_ID)\n",
    "interval1.index.is_unique"
   ]
  },
  {
   "cell_type": "code",
   "execution_count": 73,
   "metadata": {},
   "outputs": [
    {
     "data": {
      "text/plain": [
       "True"
      ]
     },
     "execution_count": 73,
     "metadata": {},
     "output_type": "execute_result"
    }
   ],
   "source": [
    "interval2.set_index(interval2.Trip_ID)\n",
    "interval2.index.is_unique"
   ]
  },
  {
   "cell_type": "code",
   "execution_count": 77,
   "metadata": {},
   "outputs": [
    {
     "data": {
      "text/plain": [
       "Text(0.5,1,'Proportion of trips by category for two time intervals')"
      ]
     },
     "execution_count": 77,
     "metadata": {},
     "output_type": "execute_result"
    },
    {
     "data": {
      "image/png": "[encoded data removed]",
      "text/plain": [
       "<Figure size 432x288 with 1 Axes>"
      ]
     },
     "metadata": {},
     "output_type": "display_data"
    }
   ],
   "source": [
    "index = np.arange(2)\n",
    "bar_width=0.25\n",
    "interval1_trips = interval1.Trip_Category.value_counts()\n",
    "interval2_trips = interval2.Trip_Category.value_counts()\n",
    "\n",
    "fig, ax = plt.subplots()\n",
    "\n",
    "plt.bar(index, interval1_trips, bar_width, label='interval 1')\n",
    "plt.bar(index+bar_width, interval2_trips, bar_width, label='interval 2')\n",
    "\n",
    "ax.set_xticks(index + bar_width/2)\n",
    "ax.set_xticklabels(('One Way', 'Round Trip'))\n",
    "ax.legend()\n",
    "plt.title('Proportion of trips by category for two time intervals')"
   ]
  },
  {
   "cell_type": "code",
   "execution_count": 80,
   "metadata": {},
   "outputs": [
    {
     "data": {
      "text/plain": [
       "Text(0.5,1,'Proportion of trips by pass for two time intervals')"
      ]
     },
     "execution_count": 80,
     "metadata": {},
     "output_type": "execute_result"
    },
    {
     "data": {
      "image/png": "[encoded data removed]",
      "text/plain": [
       "<Figure size 432x288 with 1 Axes>"
      ]
     },
     "metadata": {},
     "output_type": "display_data"
    }
   ],
   "source": [
    "index = np.arange(4)\n",
    "bar_width=0.25\n",
    "interval1_passes = interval1.Passholder_Type.value_counts()\n",
    "interval2_passes = interval2.Passholder_Type.value_counts()\n",
    "\n",
    "fig, ax = plt.subplots()\n",
    "\n",
    "plt.bar(index, interval1_passes, bar_width, label='interval 1')\n",
    "plt.bar(index+bar_width, interval2_passes, bar_width, label='interval 2')\n",
    "\n",
    "ax.set_xticks(index + bar_width/2)\n",
    "ax.set_xticklabels(('Monthly Pass', 'Walk-up', 'Flex Pass', 'Staff Annual'))\n",
    "ax.legend()\n",
    "plt.title('Proportion of trips by pass for two time intervals')"
   ]
  },
  {
   "cell_type": "markdown",
   "metadata": {},
   "source": [
    "There are more trips taken in the second time interval (after 14:00). Monthly users would have no reason to pay more in the second interval rather than the first since they would end up paying more than with the current scheme."
   ]
  },
  {
   "cell_type": "code",
   "execution_count": null,
   "metadata": {},
   "outputs": [],
   "source": []
  }
 ],
 "metadata": {
  "kernelspec": {
   "display_name": "Python 3",
   "language": "python",
   "name": "python3"
  },
  "language_info": {
   "codemirror_mode": {
    "name": "ipython",
    "version": 3
   },
   "file_extension": ".py",
   "mimetype": "text/x-python",
   "name": "python",
   "nbconvert_exporter": "python",
   "pygments_lexer": "ipython3",
   "version": "3.6.5"
  }
 },
 "nbformat": 4,
 "nbformat_minor": 2
}
