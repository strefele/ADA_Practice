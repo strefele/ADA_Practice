{
 "cells": [
  {
   "cell_type": "markdown",
   "metadata": {},
   "source": [
    "## Assignment 4: Obsevational Studies and Applied ML\n",
    "\n",
    "### Deadline\n",
    "November 21st,11:59PM\n",
    "\n",
    "### Important notes\n",
    "\n",
    "Make sure you push on GitHub your notebook with all the cells already evaluated. Don't forget to add a textual description of your thought process, the assumptions you made, and the solution you implemented. Back up any hypotheses and claims with data, since this is an important aspect of the course. Please write all your comments in English, and use meaningful variable names in your code. Your repo should have a single notebook (plus the data files necessary) in the master branch. If there are multiple notebooks present, we will not grade anything.\n",
    "\n",
    "Use this legendary link to create your repository: [link](https://classroom.github.com/g/YXtsr0QK)"
   ]
  },
  {
   "cell_type": "code",
   "execution_count": 1,
   "metadata": {},
   "outputs": [],
   "source": [
    "# Put your imports here\n",
    "import pandas as pd\n",
    "import numpy as np\n",
    "import matplotlib.pyplot as plt\n",
    "import matplotlib\n",
    "%matplotlib inline\n",
    "\n",
    "import numpy as np\n",
    "import pandas as pd\n",
    "\n",
    "from scipy import stats\n",
    "import math\n",
    "\n",
    "from sklearn.linear_model import LogisticRegression\n",
    "from sklearn.ensemble import RandomForestClassifier"
   ]
  },
  {
   "cell_type": "code",
   "execution_count": 2,
   "metadata": {},
   "outputs": [],
   "source": [
    "DATA_FOLDER = './data/'"
   ]
  },
  {
   "cell_type": "markdown",
   "metadata": {},
   "source": [
    "## Task 1: Boosting the economy by incentivizing self-employment\n",
    "\n",
    "Assume the biggest priority of the local government in 2018 is to increase per-capita income. To do so, the officials plan to adopt a strategy for incentivizing self-employment through a series of campaigns, educational programs, and dedicated funds.\n",
    "\n",
    "Since it is unethical and impossible in this setting to run a controlled experiment involving citizens (e.g., fire employees and force them to self-employ), the officials have asked you, the data scientist, to establish the effect of self-employment on the economy, relying on observational data.\n",
    "\n",
    "**A)** You will be working with the full US 2015 census dataset (acs2015_county_data.csv, available at https://www.kaggle.com/muonneutrino/us-census-demographic-data#acs2015_county_data.csv). Using suitable methods, determine and quantify the dependency between the percentage of self-employed citizens and per capita income across all 3,212 US counties. Do citizens in counties that have a higher percentage of self-employed people earn more per capita?\n",
    "\n",
    "**B)** The pilot program will involve all counties within a limited set of three US states. Set A includes Wisconsin, Tennessee, and  Minnesota. Quantify the dependency of per-capita income on self-employment rates across all the counties in set A.\n",
    "\n",
    "**C)** In which state within set A is the observed effect of self-employment on per-capita income the strongest?\n",
    "\n",
    "**D)** Set B includes New Jersey, Kansas, and Rhode Island. Repeat the analysis from steps B and C above, but now for set B. In which of the two sets A and B (if any) would you recommend incentivizing self-employment? Explain your reasoning.\n",
    "\n",
    "Hint: It is useful to add a notion of confidence to your results and explore the data visually. You are allowed to use the SciPy library."
   ]
  },
  {
   "cell_type": "code",
   "execution_count": 3,
   "metadata": {},
   "outputs": [],
   "source": [
    "census = pd.read_csv(DATA_FOLDER + \"acs2015_county_data.csv\")"
   ]
  },
  {
   "cell_type": "code",
   "execution_count": 4,
   "metadata": {},
   "outputs": [
    {
     "data": {
      "text/html": [
       "<div>\n",
       "<style scoped>\n",
       "    .dataframe tbody tr th:only-of-type {\n",
       "        vertical-align: middle;\n",
       "    }\n",
       "\n",
       "    .dataframe tbody tr th {\n",
       "        vertical-align: top;\n",
       "    }\n",
       "\n",
       "    .dataframe thead th {\n",
       "        text-align: right;\n",
       "    }\n",
       "</style>\n",
       "<table border=\"1\" class=\"dataframe\">\n",
       "  <thead>\n",
       "    <tr style=\"text-align: right;\">\n",
       "      <th></th>\n",
       "      <th>CensusId</th>\n",
       "      <th>State</th>\n",
       "      <th>County</th>\n",
       "      <th>TotalPop</th>\n",
       "      <th>Men</th>\n",
       "      <th>Women</th>\n",
       "      <th>Hispanic</th>\n",
       "      <th>White</th>\n",
       "      <th>Black</th>\n",
       "      <th>Native</th>\n",
       "      <th>...</th>\n",
       "      <th>Walk</th>\n",
       "      <th>OtherTransp</th>\n",
       "      <th>WorkAtHome</th>\n",
       "      <th>MeanCommute</th>\n",
       "      <th>Employed</th>\n",
       "      <th>PrivateWork</th>\n",
       "      <th>PublicWork</th>\n",
       "      <th>SelfEmployed</th>\n",
       "      <th>FamilyWork</th>\n",
       "      <th>Unemployment</th>\n",
       "    </tr>\n",
       "  </thead>\n",
       "  <tbody>\n",
       "    <tr>\n",
       "      <th>0</th>\n",
       "      <td>1001</td>\n",
       "      <td>Alabama</td>\n",
       "      <td>Autauga</td>\n",
       "      <td>55221</td>\n",
       "      <td>26745</td>\n",
       "      <td>28476</td>\n",
       "      <td>2.6</td>\n",
       "      <td>75.8</td>\n",
       "      <td>18.5</td>\n",
       "      <td>0.4</td>\n",
       "      <td>...</td>\n",
       "      <td>0.5</td>\n",
       "      <td>1.3</td>\n",
       "      <td>1.8</td>\n",
       "      <td>26.5</td>\n",
       "      <td>23986</td>\n",
       "      <td>73.6</td>\n",
       "      <td>20.9</td>\n",
       "      <td>5.5</td>\n",
       "      <td>0.0</td>\n",
       "      <td>7.6</td>\n",
       "    </tr>\n",
       "    <tr>\n",
       "      <th>1</th>\n",
       "      <td>1003</td>\n",
       "      <td>Alabama</td>\n",
       "      <td>Baldwin</td>\n",
       "      <td>195121</td>\n",
       "      <td>95314</td>\n",
       "      <td>99807</td>\n",
       "      <td>4.5</td>\n",
       "      <td>83.1</td>\n",
       "      <td>9.5</td>\n",
       "      <td>0.6</td>\n",
       "      <td>...</td>\n",
       "      <td>1.0</td>\n",
       "      <td>1.4</td>\n",
       "      <td>3.9</td>\n",
       "      <td>26.4</td>\n",
       "      <td>85953</td>\n",
       "      <td>81.5</td>\n",
       "      <td>12.3</td>\n",
       "      <td>5.8</td>\n",
       "      <td>0.4</td>\n",
       "      <td>7.5</td>\n",
       "    </tr>\n",
       "    <tr>\n",
       "      <th>2</th>\n",
       "      <td>1005</td>\n",
       "      <td>Alabama</td>\n",
       "      <td>Barbour</td>\n",
       "      <td>26932</td>\n",
       "      <td>14497</td>\n",
       "      <td>12435</td>\n",
       "      <td>4.6</td>\n",
       "      <td>46.2</td>\n",
       "      <td>46.7</td>\n",
       "      <td>0.2</td>\n",
       "      <td>...</td>\n",
       "      <td>1.8</td>\n",
       "      <td>1.5</td>\n",
       "      <td>1.6</td>\n",
       "      <td>24.1</td>\n",
       "      <td>8597</td>\n",
       "      <td>71.8</td>\n",
       "      <td>20.8</td>\n",
       "      <td>7.3</td>\n",
       "      <td>0.1</td>\n",
       "      <td>17.6</td>\n",
       "    </tr>\n",
       "    <tr>\n",
       "      <th>3</th>\n",
       "      <td>1007</td>\n",
       "      <td>Alabama</td>\n",
       "      <td>Bibb</td>\n",
       "      <td>22604</td>\n",
       "      <td>12073</td>\n",
       "      <td>10531</td>\n",
       "      <td>2.2</td>\n",
       "      <td>74.5</td>\n",
       "      <td>21.4</td>\n",
       "      <td>0.4</td>\n",
       "      <td>...</td>\n",
       "      <td>0.6</td>\n",
       "      <td>1.5</td>\n",
       "      <td>0.7</td>\n",
       "      <td>28.8</td>\n",
       "      <td>8294</td>\n",
       "      <td>76.8</td>\n",
       "      <td>16.1</td>\n",
       "      <td>6.7</td>\n",
       "      <td>0.4</td>\n",
       "      <td>8.3</td>\n",
       "    </tr>\n",
       "    <tr>\n",
       "      <th>4</th>\n",
       "      <td>1009</td>\n",
       "      <td>Alabama</td>\n",
       "      <td>Blount</td>\n",
       "      <td>57710</td>\n",
       "      <td>28512</td>\n",
       "      <td>29198</td>\n",
       "      <td>8.6</td>\n",
       "      <td>87.9</td>\n",
       "      <td>1.5</td>\n",
       "      <td>0.3</td>\n",
       "      <td>...</td>\n",
       "      <td>0.9</td>\n",
       "      <td>0.4</td>\n",
       "      <td>2.3</td>\n",
       "      <td>34.9</td>\n",
       "      <td>22189</td>\n",
       "      <td>82.0</td>\n",
       "      <td>13.5</td>\n",
       "      <td>4.2</td>\n",
       "      <td>0.4</td>\n",
       "      <td>7.7</td>\n",
       "    </tr>\n",
       "  </tbody>\n",
       "</table>\n",
       "<p>5 rows × 37 columns</p>\n",
       "</div>"
      ],
      "text/plain": [
       "   CensusId    State   County  TotalPop    Men  Women  Hispanic  White  Black  \\\n",
       "0      1001  Alabama  Autauga     55221  26745  28476       2.6   75.8   18.5   \n",
       "1      1003  Alabama  Baldwin    195121  95314  99807       4.5   83.1    9.5   \n",
       "2      1005  Alabama  Barbour     26932  14497  12435       4.6   46.2   46.7   \n",
       "3      1007  Alabama     Bibb     22604  12073  10531       2.2   74.5   21.4   \n",
       "4      1009  Alabama   Blount     57710  28512  29198       8.6   87.9    1.5   \n",
       "\n",
       "   Native      ...       Walk  OtherTransp  WorkAtHome  MeanCommute  Employed  \\\n",
       "0     0.4      ...        0.5          1.3         1.8         26.5     23986   \n",
       "1     0.6      ...        1.0          1.4         3.9         26.4     85953   \n",
       "2     0.2      ...        1.8          1.5         1.6         24.1      8597   \n",
       "3     0.4      ...        0.6          1.5         0.7         28.8      8294   \n",
       "4     0.3      ...        0.9          0.4         2.3         34.9     22189   \n",
       "\n",
       "   PrivateWork  PublicWork  SelfEmployed  FamilyWork  Unemployment  \n",
       "0         73.6        20.9           5.5         0.0           7.6  \n",
       "1         81.5        12.3           5.8         0.4           7.5  \n",
       "2         71.8        20.8           7.3         0.1          17.6  \n",
       "3         76.8        16.1           6.7         0.4           8.3  \n",
       "4         82.0        13.5           4.2         0.4           7.7  \n",
       "\n",
       "[5 rows x 37 columns]"
      ]
     },
     "execution_count": 4,
     "metadata": {},
     "output_type": "execute_result"
    }
   ],
   "source": [
    "census.head()"
   ]
  },
  {
   "cell_type": "code",
   "execution_count": 5,
   "metadata": {},
   "outputs": [],
   "source": [
    "self_employed = pd.DataFrame(data={'State':census.State, 'SelfEmployed':census.SelfEmployed, \n",
    "                                  'IncomePerCap':census.IncomePerCap})"
   ]
  },
  {
   "cell_type": "markdown",
   "metadata": {},
   "source": [
    "## Task 1A\n",
    "\n",
    "### Determine and quantify the dependency between percentage of self-employment and per capita income across all counties. \n"
   ]
  },
  {
   "cell_type": "code",
   "execution_count": 6,
   "metadata": {},
   "outputs": [
    {
     "data": {
      "text/plain": [
       "Text(0,0.5,'Self-employment [%]')"
      ]
     },
     "execution_count": 6,
     "metadata": {},
     "output_type": "execute_result"
    },
    {
     "data": {
      "image/png": "[encoded data removed]",
      "text/plain": [
       "<Figure size 432x288 with 1 Axes>"
      ]
     },
     "metadata": {},
     "output_type": "display_data"
    }
   ],
   "source": [
    "graph1 = self_employed.plot('IncomePerCap', 'SelfEmployed', kind='scatter')\n",
    "graph1.set_title('Relationship between per capita income and % self employment')\n",
    "graph1.set_xlabel('Income per capita')\n",
    "graph1.set_ylabel('Self-employment [%]')"
   ]
  },
  {
   "cell_type": "markdown",
   "metadata": {},
   "source": [
    "**We can't visualy observe any dependency. We decide to check the Spearman correlation for a monotonic relationship between the variables.**\n",
    "\n",
    "Pearson correlation is more limited, since it only examines linear relationship. It also requires the assumption that the data distributions will be Gaussian. We decide to use the Spearman coefficient since it is more accomodating (even though there is a corresponding loss of power). It is also more general, looking at upwards tendencies instead of a strict linear relationship.\n",
    "\n",
    "We will base our conclusions not on the p-value (that becomes significant for any large dataset) but on the effect size as interpreted by the correlation coefficient r. It is generally accepted that 0.1 represents a small effect, 0.3 a medium effect, and 0.5 a large effect."
   ]
  },
  {
   "cell_type": "code",
   "execution_count": 7,
   "metadata": {},
   "outputs": [],
   "source": [
    "corr_value, p_value = stats.spearmanr(self_employed.SelfEmployed, self_employed.IncomePerCap, axis=0)"
   ]
  },
  {
   "cell_type": "code",
   "execution_count": 8,
   "metadata": {},
   "outputs": [
    {
     "name": "stdout",
     "output_type": "stream",
     "text": [
      "0.056413673053189874\n",
      "0.0013623847564714516\n"
     ]
    }
   ],
   "source": [
    "print(corr_value)\n",
    "print(p_value)"
   ]
  },
  {
   "cell_type": "markdown",
   "metadata": {},
   "source": [
    "**We have a significant p-value (<0.05), so we would reject the null hypothesis of no relationship. However, significance is reached far too easily with large datasets. We recall that an r-value of 0.1 represents a small effect, so the effect we see here is so small as to be meaningless.**"
   ]
  },
  {
   "cell_type": "markdown",
   "metadata": {},
   "source": [
    "**In counties where self employment rates are higher, is more income per capita earned? Based on the small effect size, no.**"
   ]
  },
  {
   "cell_type": "markdown",
   "metadata": {},
   "source": [
    "## Task 1B-C\n",
    "\n",
    "### We perform a pilot program examining the dependency between self-employment and per capita income in Minnesota, Tennessee, and Wisconsin."
   ]
  },
  {
   "cell_type": "code",
   "execution_count": 9,
   "metadata": {},
   "outputs": [],
   "source": [
    "pilot1 = self_employed.loc[(self_employed['State'] == 'Minnesota') | (self_employed['State'] == 'Wisconsin') |\n",
    "                           (self_employed['State'] == 'Tennessee')]"
   ]
  },
  {
   "cell_type": "code",
   "execution_count": 10,
   "metadata": {},
   "outputs": [
    {
     "data": {
      "text/plain": [
       "<matplotlib.legend.Legend at 0x7fe0893a6630>"
      ]
     },
     "execution_count": 10,
     "metadata": {},
     "output_type": "execute_result"
    },
    {
     "data": {
      "image/png": "[encoded data removed]",
      "text/plain": [
       "<Figure size 432x288 with 1 Axes>"
      ]
     },
     "metadata": {},
     "output_type": "display_data"
    }
   ],
   "source": [
    "color_dict = {'Minnesota': 'blue', 'Wisconsin':'green', 'Tennessee':'red'}\n",
    "graph2 = pilot1.plot('IncomePerCap', 'SelfEmployed', kind='scatter', color = [color_dict[i] for i in pilot1.State])\n",
    "graph2.set_title('Relationship between per capita income and % self-employment in MN, TE, WI')\n",
    "\n",
    "red_patch = matplotlib.patches.Patch(color='red', label='Tennessee')\n",
    "blue_patch = matplotlib.patches.Patch(color='blue', label='Minnesota')\n",
    "green_patch = matplotlib.patches.Patch(color='green', label='Wisconsin')\n",
    "graph2.legend(handles=[blue_patch, red_patch, green_patch])"
   ]
  },
  {
   "cell_type": "markdown",
   "metadata": {},
   "source": [
    "As before we calculate the Spearman correlation coefficient and interpret the effect size."
   ]
  },
  {
   "cell_type": "code",
   "execution_count": 13,
   "metadata": {},
   "outputs": [
    {
     "name": "stdout",
     "output_type": "stream",
     "text": [
      "-0.2366979000103385\n"
     ]
    }
   ],
   "source": [
    "corr_value1, p_value1 = stats.spearmanr(pilot1.SelfEmployed, pilot1.IncomePerCap, axis=0)\n",
    "print(corr_value1)"
   ]
  },
  {
   "cell_type": "markdown",
   "metadata": {},
   "source": [
    "**Here we see a small-to-medium negative effect, indicating that per capita income decreases slightly as the percentage of self employment increases.**\n",
    "\n",
    "**Next we would like to see in which state the effect is strongest. **"
   ]
  },
  {
   "cell_type": "code",
   "execution_count": 14,
   "metadata": {},
   "outputs": [
    {
     "name": "stdout",
     "output_type": "stream",
     "text": [
      "Correlation from MN: -0.21107460598245847\n",
      "Correlation from WI: -0.46351291044049403\n",
      "Correlation from TE: -0.316991392780988\n"
     ]
    }
   ],
   "source": [
    "#Each state from the pilot separately\n",
    "MN = pilot1.loc[pilot1.State == 'Minnesota']\n",
    "WI = pilot1.loc[pilot1.State == 'Wisconsin']\n",
    "TE = pilot1.loc[pilot1.State == 'Tennessee']\n",
    "\n",
    "corr_valueMN, p_value = stats.spearmanr(MN.SelfEmployed, MN.IncomePerCap, axis=0)\n",
    "print('Correlation from MN: ' + str(corr_valueMN))\n",
    "\n",
    "corr_valueWI, p_value = stats.spearmanr(WI.SelfEmployed, WI.IncomePerCap, axis=0)\n",
    "print('Correlation from WI: ' + str(corr_valueWI))\n",
    "\n",
    "corr_valueTE, p_value = stats.spearmanr(TE.SelfEmployed, TE.IncomePerCap, axis=0)\n",
    "print('Correlation from TE: ' + str(corr_valueTE))"
   ]
  },
  {
   "cell_type": "markdown",
   "metadata": {},
   "source": [
    "**Separately, we see larger effects than together. The strongest effect observed is a negative relationship between the parameters in the state of Wisconsin. In these pilot states at least, more self-employment corresponds to a decrease in per capita income. **"
   ]
  },
  {
   "cell_type": "markdown",
   "metadata": {},
   "source": [
    "## Task 1D\n",
    "\n",
    "### Here we perform the same analysis as task B but with a new pilot group (NJ, KS, RI)"
   ]
  },
  {
   "cell_type": "code",
   "execution_count": 15,
   "metadata": {},
   "outputs": [],
   "source": [
    "pilot1 = self_employed.loc[(self_employed['State'] == 'Kansas') | (self_employed['State'] == 'New Jersey') |\n",
    "                           (self_employed['State'] == 'Rhode Island')]"
   ]
  },
  {
   "cell_type": "code",
   "execution_count": 16,
   "metadata": {},
   "outputs": [
    {
     "data": {
      "text/plain": [
       "<matplotlib.legend.Legend at 0x7fe08937d860>"
      ]
     },
     "execution_count": 16,
     "metadata": {},
     "output_type": "execute_result"
    },
    {
     "data": {
      "image/png": "[encoded data removed]",
      "text/plain": [
       "<Figure size 432x288 with 1 Axes>"
      ]
     },
     "metadata": {},
     "output_type": "display_data"
    }
   ],
   "source": [
    "color_dict = {'Kansas': 'red', 'New Jersey':'green', 'Rhode Island':'blue'}\n",
    "graph2 = pilot1.plot('IncomePerCap', 'SelfEmployed', kind='scatter', color = [color_dict[i] for i in pilot1.State])\n",
    "graph2.set_title('Relationship between per capita income and % self-employment in KS, NJ, RI')\n",
    "\n",
    "red_patch = matplotlib.patches.Patch(color='red', label='Kansas')\n",
    "blue_patch = matplotlib.patches.Patch(color='blue', label='Rhode Island')\n",
    "green_patch = matplotlib.patches.Patch(color='green', label='New Jersey')\n",
    "graph2.legend(handles=[red_patch, green_patch, blue_patch])"
   ]
  },
  {
   "cell_type": "code",
   "execution_count": 19,
   "metadata": {},
   "outputs": [
    {
     "name": "stdout",
     "output_type": "stream",
     "text": [
      "Correlation from KS: 0.28392575483491556\n",
      "Correlation from NJ: 0.40403460177366013\n",
      "Correlation from RI: 0.9021788382149803\n"
     ]
    }
   ],
   "source": [
    "#Each state from the pilot separately\n",
    "KS = pilot1.loc[pilot1.State == 'Kansas']\n",
    "NJ = pilot1.loc[pilot1.State == 'New Jersey']\n",
    "RI = pilot1.loc[pilot1.State == 'Rhode Island']\n",
    "\n",
    "corr_valueKS, p_value = stats.spearmanr(KS.SelfEmployed, KS.IncomePerCap, axis=0)\n",
    "print('Correlation from KS: ' + str(corr_valueKS))\n",
    "\n",
    "corr_valueNJ, p_value = stats.spearmanr(NJ.SelfEmployed, NJ.IncomePerCap, axis=0)\n",
    "print('Correlation from NJ: ' + str(corr_valueNJ))\n",
    "\n",
    "corr_valueRI, p_value = stats.pearsonr(RI.SelfEmployed, RI.IncomePerCap)\n",
    "print('Correlation from RI: ' + str(corr_valueRI))"
   ]
  },
  {
   "cell_type": "markdown",
   "metadata": {},
   "source": [
    "**Rhode Island shows the largest effect, with a coefficient near 1 after a Spearman analysis, so we consequently calculated the Pearson correlation coefficient and got a likewise high value, indicating a near-linear relationship. The size of the effect remains medium for the other two states in this pilot. **"
   ]
  },
  {
   "cell_type": "markdown",
   "metadata": {},
   "source": [
    "**Interestingly, and contrary to the previous pilot, this pilot group shows a positive relationship between self employment levels and per capita income. We would prefer to incentivize self-employment in this second pilot group rather than in the first one.**"
   ]
  },
  {
   "cell_type": "markdown",
   "metadata": {
    "collapsed": true
   },
   "source": [
    "## Task 2: All you need is love… And a dog!\n",
    "\n",
    "Here we are going to build a classifier to predict whether an animal from an animal shelter will be adopted or not (aac_intakes_outcomes.csv, available at: https://www.kaggle.com/aaronschlegel/austin-animal-center-shelter-intakes-and-outcomes/version/1#aac_intakes_outcomes.csv). You will be working with the following features:\n",
    "\n",
    "1. *animal_type:* Type of animal. May be one of 'cat', 'dog', 'bird', etc.\n",
    "2. *intake_year:* Year of intake\n",
    "3. *intake_condition:* The intake condition of the animal. Can be one of 'normal', 'injured', 'sick', etc.\n",
    "4. *intake_number:* The intake number denoting the number of occurrences the animal has been brought into the shelter. Values higher than 1 indicate the animal has been taken into the shelter on more than one occasion.\n",
    "5. *intake_type:* The type of intake, for example, 'stray', 'owner surrender', etc.\n",
    "6. *sex_upon_intake:* The gender of the animal and if it has been spayed or neutered at the time of intake\n",
    "7. *age_upon\\_intake_(years):* The age of the animal upon intake represented in years\n",
    "8. *time_in_shelter_days:* Numeric value denoting the number of days the animal remained at the shelter from intake to outcome.\n",
    "9. *sex_upon_outcome:* The gender of the animal and if it has been spayed or neutered at time of outcome\n",
    "10. *age_upon\\_outcome_(years):* The age of the animal upon outcome represented in years\n",
    "11. *outcome_type:* The outcome type. Can be one of ‘adopted’, ‘transferred’, etc.\n",
    "\n",
    "**A)** Load the dataset and convert categorical features to a suitable numerical representation (use dummy-variable encoding). Split the data into a training set (80%) and a test set (20%). Pair each feature vector with the corresponding label, i.e., whether the outcome_type is adoption or not. Standardize the values of each feature in the data to have mean 0 and variance 1. The use of external libraries is not permitted in part A, except for numpy and pandas.\n",
    "\n",
    "**B)** Train a logistic regression classifier on your training set. Logistic regression returns probabilities as predictions, so in order to arrive at a binary prediction, you need to put a threshold on the predicted probabilities. For the decision threshold of 0.5, present the performance of your classifier on the test set by displaying the confusion matrix. Based on the confusion matrix, manually calculate accuracy, precision, recall, and F1-score with respect to the positive and the negative class. Vary the value of the threshold in the range from 0 to 1 and visualize the value of accuracy, precision, recall, and F1-score (with respect to both classes) as a function of the threshold. The shelter has a limited capacity and has no other option but to put to sleep animals with a low probability of adoption. What metric (precision, recall, accuracy, or F1-score) and with respect to what class is the most relevant when choosing the threshold in this scenario, and why? Explain your reasoning.\n",
    "\n",
    "**C)** Reduce the number of features by selecting the subset of the k best features. Use greedy backward selection to iteratively remove features. Evaluate performance and visualize the result using 5-fold cross-validation on the training set as a function of k, where k = 1, 5, 10, 15, 20, 25, 30. Choose the optimal k and justify your choice. Interpret the top-k features and their impact on the probability of adoption.\n",
    "\n",
    "**D)** Train a random forest. Use 5-fold cross-validation on the training set to fine-tune the parameters of the classifier using a grid search on the number of estimators \"n_estimators\" and the max depth of the trees \"max_depth\". For the chosen parameters, estimate the performance of your classifier on the test set by presenting the confusion matrix, accuracy, precision, recall, and F1-score with respect to both classes and compare the performance with the performance of the logistic regression. Interpret the results.\n",
    "\n",
    "You are allowed to use the scikit-learn library to implement your classifiers."
   ]
  },
  {
   "cell_type": "code",
   "execution_count": 57,
   "metadata": {},
   "outputs": [],
   "source": [
    "shelter_data = pd.read_csv(DATA_FOLDER + \"aac_intakes_outcomes.csv\")"
   ]
  },
  {
   "cell_type": "code",
   "execution_count": 58,
   "metadata": {},
   "outputs": [],
   "source": [
    "shelter = shelter_data[['animal_type', 'intake_year', 'intake_condition', 'intake_number', 'intake_type', \n",
    "                       'sex_upon_intake', 'age_upon_intake_(years)', 'time_in_shelter_days', 'sex_upon_outcome', \n",
    "                       'age_upon_outcome_(years)', 'outcome_type']]"
   ]
  },
  {
   "cell_type": "code",
   "execution_count": 59,
   "metadata": {},
   "outputs": [
    {
     "data": {
      "text/plain": [
       "animal_type                  0\n",
       "intake_year                  0\n",
       "intake_condition             0\n",
       "intake_number                0\n",
       "intake_type                  0\n",
       "sex_upon_intake              1\n",
       "age_upon_intake_(years)      0\n",
       "time_in_shelter_days         0\n",
       "sex_upon_outcome             1\n",
       "age_upon_outcome_(years)     0\n",
       "outcome_type                10\n",
       "dtype: int64"
      ]
     },
     "metadata": {},
     "output_type": "display_data"
    }
   ],
   "source": [
    "#Preliminary cleaning\n",
    "display(shelter.isna().sum())\n",
    "shelter = shelter.dropna()"
   ]
  },
  {
   "cell_type": "code",
   "execution_count": 60,
   "metadata": {},
   "outputs": [
    {
     "data": {
      "text/html": [
       "<div>\n",
       "<style scoped>\n",
       "    .dataframe tbody tr th:only-of-type {\n",
       "        vertical-align: middle;\n",
       "    }\n",
       "\n",
       "    .dataframe tbody tr th {\n",
       "        vertical-align: top;\n",
       "    }\n",
       "\n",
       "    .dataframe thead th {\n",
       "        text-align: right;\n",
       "    }\n",
       "</style>\n",
       "<table border=\"1\" class=\"dataframe\">\n",
       "  <thead>\n",
       "    <tr style=\"text-align: right;\">\n",
       "      <th></th>\n",
       "      <th>animal_type</th>\n",
       "      <th>intake_year</th>\n",
       "      <th>intake_condition</th>\n",
       "      <th>intake_number</th>\n",
       "      <th>intake_type</th>\n",
       "      <th>sex_upon_intake</th>\n",
       "      <th>age_upon_intake_(years)</th>\n",
       "      <th>time_in_shelter_days</th>\n",
       "      <th>sex_upon_outcome</th>\n",
       "      <th>age_upon_outcome_(years)</th>\n",
       "      <th>outcome_type</th>\n",
       "    </tr>\n",
       "  </thead>\n",
       "  <tbody>\n",
       "    <tr>\n",
       "      <th>0</th>\n",
       "      <td>Dog</td>\n",
       "      <td>2017</td>\n",
       "      <td>Normal</td>\n",
       "      <td>1.0</td>\n",
       "      <td>Stray</td>\n",
       "      <td>Neutered Male</td>\n",
       "      <td>10.0</td>\n",
       "      <td>0.588194</td>\n",
       "      <td>Neutered Male</td>\n",
       "      <td>10.0</td>\n",
       "      <td>Return to Owner</td>\n",
       "    </tr>\n",
       "  </tbody>\n",
       "</table>\n",
       "</div>"
      ],
      "text/plain": [
       "  animal_type  intake_year intake_condition  intake_number intake_type  \\\n",
       "0         Dog         2017           Normal            1.0       Stray   \n",
       "\n",
       "  sex_upon_intake  age_upon_intake_(years)  time_in_shelter_days  \\\n",
       "0   Neutered Male                     10.0              0.588194   \n",
       "\n",
       "  sex_upon_outcome  age_upon_outcome_(years)     outcome_type  \n",
       "0    Neutered Male                      10.0  Return to Owner  "
      ]
     },
     "execution_count": 60,
     "metadata": {},
     "output_type": "execute_result"
    }
   ],
   "source": [
    "shelter.head(1)"
   ]
  },
  {
   "cell_type": "markdown",
   "metadata": {},
   "source": [
    "## Task 2A\n",
    "\n",
    "### Perform dummy-variable encoding of categorical features. Split data into 80% training and 20% test sets. Pair feature vectors with outcomes (adoption or not). Standardize feature values."
   ]
  },
  {
   "cell_type": "code",
   "execution_count": 61,
   "metadata": {},
   "outputs": [],
   "source": [
    "#We need to remove the outcomes before we make dummy variables\n",
    "#Outcomes are True/False values based on whether the animal was adopted or not\n",
    "outcomes = (shelter['outcome_type'] == 'Adoption')\n",
    "outcomes = pd.DataFrame(outcomes)\n",
    "\n",
    "shelter = shelter.drop(columns=['outcome_type'])"
   ]
  },
  {
   "cell_type": "code",
   "execution_count": 62,
   "metadata": {},
   "outputs": [
    {
     "data": {
      "text/html": [
       "<div>\n",
       "<style scoped>\n",
       "    .dataframe tbody tr th:only-of-type {\n",
       "        vertical-align: middle;\n",
       "    }\n",
       "\n",
       "    .dataframe tbody tr th {\n",
       "        vertical-align: top;\n",
       "    }\n",
       "\n",
       "    .dataframe thead th {\n",
       "        text-align: right;\n",
       "    }\n",
       "</style>\n",
       "<table border=\"1\" class=\"dataframe\">\n",
       "  <thead>\n",
       "    <tr style=\"text-align: right;\">\n",
       "      <th></th>\n",
       "      <th>intake_year</th>\n",
       "      <th>intake_number</th>\n",
       "      <th>age_upon_intake_(years)</th>\n",
       "      <th>time_in_shelter_days</th>\n",
       "      <th>age_upon_outcome_(years)</th>\n",
       "      <th>animal_type_Bird</th>\n",
       "      <th>animal_type_Cat</th>\n",
       "      <th>animal_type_Dog</th>\n",
       "      <th>animal_type_Other</th>\n",
       "      <th>intake_condition_Aged</th>\n",
       "      <th>...</th>\n",
       "      <th>sex_upon_intake_Intact Female</th>\n",
       "      <th>sex_upon_intake_Intact Male</th>\n",
       "      <th>sex_upon_intake_Neutered Male</th>\n",
       "      <th>sex_upon_intake_Spayed Female</th>\n",
       "      <th>sex_upon_intake_Unknown</th>\n",
       "      <th>sex_upon_outcome_Intact Female</th>\n",
       "      <th>sex_upon_outcome_Intact Male</th>\n",
       "      <th>sex_upon_outcome_Neutered Male</th>\n",
       "      <th>sex_upon_outcome_Spayed Female</th>\n",
       "      <th>sex_upon_outcome_Unknown</th>\n",
       "    </tr>\n",
       "  </thead>\n",
       "  <tbody>\n",
       "    <tr>\n",
       "      <th>0</th>\n",
       "      <td>2017</td>\n",
       "      <td>1.0</td>\n",
       "      <td>10.0</td>\n",
       "      <td>0.588194</td>\n",
       "      <td>10.0</td>\n",
       "      <td>0</td>\n",
       "      <td>0</td>\n",
       "      <td>1</td>\n",
       "      <td>0</td>\n",
       "      <td>0</td>\n",
       "      <td>...</td>\n",
       "      <td>0</td>\n",
       "      <td>0</td>\n",
       "      <td>1</td>\n",
       "      <td>0</td>\n",
       "      <td>0</td>\n",
       "      <td>0</td>\n",
       "      <td>0</td>\n",
       "      <td>1</td>\n",
       "      <td>0</td>\n",
       "      <td>0</td>\n",
       "    </tr>\n",
       "    <tr>\n",
       "      <th>1</th>\n",
       "      <td>2014</td>\n",
       "      <td>2.0</td>\n",
       "      <td>7.0</td>\n",
       "      <td>1.259722</td>\n",
       "      <td>7.0</td>\n",
       "      <td>0</td>\n",
       "      <td>0</td>\n",
       "      <td>1</td>\n",
       "      <td>0</td>\n",
       "      <td>0</td>\n",
       "      <td>...</td>\n",
       "      <td>0</td>\n",
       "      <td>0</td>\n",
       "      <td>1</td>\n",
       "      <td>0</td>\n",
       "      <td>0</td>\n",
       "      <td>0</td>\n",
       "      <td>0</td>\n",
       "      <td>1</td>\n",
       "      <td>0</td>\n",
       "      <td>0</td>\n",
       "    </tr>\n",
       "    <tr>\n",
       "      <th>2</th>\n",
       "      <td>2014</td>\n",
       "      <td>3.0</td>\n",
       "      <td>6.0</td>\n",
       "      <td>1.113889</td>\n",
       "      <td>6.0</td>\n",
       "      <td>0</td>\n",
       "      <td>0</td>\n",
       "      <td>1</td>\n",
       "      <td>0</td>\n",
       "      <td>0</td>\n",
       "      <td>...</td>\n",
       "      <td>0</td>\n",
       "      <td>0</td>\n",
       "      <td>1</td>\n",
       "      <td>0</td>\n",
       "      <td>0</td>\n",
       "      <td>0</td>\n",
       "      <td>0</td>\n",
       "      <td>1</td>\n",
       "      <td>0</td>\n",
       "      <td>0</td>\n",
       "    </tr>\n",
       "    <tr>\n",
       "      <th>3</th>\n",
       "      <td>2014</td>\n",
       "      <td>1.0</td>\n",
       "      <td>10.0</td>\n",
       "      <td>4.970139</td>\n",
       "      <td>10.0</td>\n",
       "      <td>0</td>\n",
       "      <td>0</td>\n",
       "      <td>1</td>\n",
       "      <td>0</td>\n",
       "      <td>0</td>\n",
       "      <td>...</td>\n",
       "      <td>0</td>\n",
       "      <td>0</td>\n",
       "      <td>1</td>\n",
       "      <td>0</td>\n",
       "      <td>0</td>\n",
       "      <td>0</td>\n",
       "      <td>0</td>\n",
       "      <td>1</td>\n",
       "      <td>0</td>\n",
       "      <td>0</td>\n",
       "    </tr>\n",
       "    <tr>\n",
       "      <th>4</th>\n",
       "      <td>2013</td>\n",
       "      <td>1.0</td>\n",
       "      <td>16.0</td>\n",
       "      <td>0.119444</td>\n",
       "      <td>16.0</td>\n",
       "      <td>0</td>\n",
       "      <td>0</td>\n",
       "      <td>1</td>\n",
       "      <td>0</td>\n",
       "      <td>0</td>\n",
       "      <td>...</td>\n",
       "      <td>0</td>\n",
       "      <td>0</td>\n",
       "      <td>1</td>\n",
       "      <td>0</td>\n",
       "      <td>0</td>\n",
       "      <td>0</td>\n",
       "      <td>0</td>\n",
       "      <td>1</td>\n",
       "      <td>0</td>\n",
       "      <td>0</td>\n",
       "    </tr>\n",
       "  </tbody>\n",
       "</table>\n",
       "<p>5 rows × 32 columns</p>\n",
       "</div>"
      ],
      "text/plain": [
       "   intake_year  intake_number  age_upon_intake_(years)  time_in_shelter_days  \\\n",
       "0         2017            1.0                     10.0              0.588194   \n",
       "1         2014            2.0                      7.0              1.259722   \n",
       "2         2014            3.0                      6.0              1.113889   \n",
       "3         2014            1.0                     10.0              4.970139   \n",
       "4         2013            1.0                     16.0              0.119444   \n",
       "\n",
       "   age_upon_outcome_(years)  animal_type_Bird  animal_type_Cat  \\\n",
       "0                      10.0                 0                0   \n",
       "1                       7.0                 0                0   \n",
       "2                       6.0                 0                0   \n",
       "3                      10.0                 0                0   \n",
       "4                      16.0                 0                0   \n",
       "\n",
       "   animal_type_Dog  animal_type_Other  intake_condition_Aged  \\\n",
       "0                1                  0                      0   \n",
       "1                1                  0                      0   \n",
       "2                1                  0                      0   \n",
       "3                1                  0                      0   \n",
       "4                1                  0                      0   \n",
       "\n",
       "             ...             sex_upon_intake_Intact Female  \\\n",
       "0            ...                                         0   \n",
       "1            ...                                         0   \n",
       "2            ...                                         0   \n",
       "3            ...                                         0   \n",
       "4            ...                                         0   \n",
       "\n",
       "   sex_upon_intake_Intact Male  sex_upon_intake_Neutered Male  \\\n",
       "0                            0                              1   \n",
       "1                            0                              1   \n",
       "2                            0                              1   \n",
       "3                            0                              1   \n",
       "4                            0                              1   \n",
       "\n",
       "   sex_upon_intake_Spayed Female  sex_upon_intake_Unknown  \\\n",
       "0                              0                        0   \n",
       "1                              0                        0   \n",
       "2                              0                        0   \n",
       "3                              0                        0   \n",
       "4                              0                        0   \n",
       "\n",
       "   sex_upon_outcome_Intact Female  sex_upon_outcome_Intact Male  \\\n",
       "0                               0                             0   \n",
       "1                               0                             0   \n",
       "2                               0                             0   \n",
       "3                               0                             0   \n",
       "4                               0                             0   \n",
       "\n",
       "   sex_upon_outcome_Neutered Male  sex_upon_outcome_Spayed Female  \\\n",
       "0                               1                               0   \n",
       "1                               1                               0   \n",
       "2                               1                               0   \n",
       "3                               1                               0   \n",
       "4                               1                               0   \n",
       "\n",
       "   sex_upon_outcome_Unknown  \n",
       "0                         0  \n",
       "1                         0  \n",
       "2                         0  \n",
       "3                         0  \n",
       "4                         0  \n",
       "\n",
       "[5 rows x 32 columns]"
      ]
     },
     "execution_count": 62,
     "metadata": {},
     "output_type": "execute_result"
    }
   ],
   "source": [
    "#Categorical variables\n",
    "categorical_list = ['animal_type', 'intake_condition', 'intake_type', 'sex_upon_intake', 'sex_upon_outcome']\n",
    "\n",
    "shelter = pd.get_dummies(shelter, columns=categorical_list)\n",
    "shelter.head()"
   ]
  },
  {
   "cell_type": "code",
   "execution_count": 84,
   "metadata": {},
   "outputs": [],
   "source": [
    "features_with_outcomes = shelter.merge(outcomes, left_index=True, right_index=True)\n",
    "\n",
    "#Split into training and test sets (80 and 20% respectively)\n",
    "training_set = features_with_outcomes.sample(frac=0.8, random_state=np.random.seed(1))\n",
    "test_set = features_with_outcomes.drop(training_set.index)\n",
    "\n",
    "#Extract the outcomes\n",
    "training_outcomes = training_set[['outcome_type']]\n",
    "training_set.drop(columns=['outcome_type'], inplace=True)\n",
    "\n",
    "test_outcomes = test_set[['outcome_type']]\n",
    "test_set.drop(columns=['outcome_type'], inplace=True)"
   ]
  },
  {
   "cell_type": "code",
   "execution_count": 85,
   "metadata": {},
   "outputs": [],
   "source": [
    "#Standardization: standardized = (val - mean) / stdv\n",
    "def standardize(data, columns):\n",
    "    \"\"\"\n",
    "    Standardize values in columns so they have a mean of 0 and a standard deviation of 1\n",
    "    IN: dataframe, names of columns\n",
    "    OUT: standardized dataframe\n",
    "    \"\"\"\n",
    "    for i in range(data[columns].shape[1]):\n",
    "        mean = data.iloc[:, i].mean()\n",
    "        stdv = data.iloc[:, i].std()\n",
    "        data.iloc[:, i] = (data.iloc[:, i] - mean) / stdv\n",
    "    return data"
   ]
  },
  {
   "cell_type": "code",
   "execution_count": 86,
   "metadata": {},
   "outputs": [],
   "source": [
    "training_set = standardize(training_set, training_set.columns.values)\n",
    "test_set = standardize(test_set, test_set.columns.values)"
   ]
  },
  {
   "cell_type": "markdown",
   "metadata": {},
   "source": [
    "## Task 2B\n",
    "\n",
    "### Train a logistic regression classifier. Predict outcomes with a threshold of 0.5. Present classifier performance with the confusion matrix and metrics. Visualize the metrics as we vary the threshold between 0 and 1. What is the most relevant metric (and in respect to which class) when choosing the threshold?"
   ]
  },
  {
   "cell_type": "markdown",
   "metadata": {},
   "source": [
    "**Logistic regression classifier **"
   ]
  },
  {
   "cell_type": "code",
   "execution_count": 87,
   "metadata": {},
   "outputs": [
    {
     "data": {
      "text/plain": [
       "LogisticRegression(C=1.0, class_weight=None, dual=False, fit_intercept=True,\n",
       "          intercept_scaling=1, max_iter=100, multi_class='ovr', n_jobs=1,\n",
       "          penalty='l2', random_state=None, solver='lbfgs', tol=0.0001,\n",
       "          verbose=0, warm_start=False)"
      ]
     },
     "execution_count": 87,
     "metadata": {},
     "output_type": "execute_result"
    }
   ],
   "source": [
    "#create then train the model\n",
    "logistic = LogisticRegression(solver='lbfgs')\n",
    "logistic.fit(training_set, training_outcomes['outcome_type'].tolist())"
   ]
  },
  {
   "cell_type": "markdown",
   "metadata": {},
   "source": [
    "With the classifier, we can predict the probabilities of adoption or not. The function below gives a multidimensional array with the probability of the negative and the positive outcomes (columns 0 and 1 respectively) for each given feature vector."
   ]
  },
  {
   "cell_type": "code",
   "execution_count": 88,
   "metadata": {},
   "outputs": [],
   "source": [
    "outcome_probabilities = logistic.predict_proba(test_set)"
   ]
  },
  {
   "cell_type": "markdown",
   "metadata": {},
   "source": [
    "**We want to know if an animal will be adopted or not. The animal will be adopted if the probability of a positive outcome, as predicted by the classifier, is higher than our threshold value.**"
   ]
  },
  {
   "cell_type": "code",
   "execution_count": 89,
   "metadata": {},
   "outputs": [],
   "source": [
    "def prediction(prob_outcome, threshold):\n",
    "    \"\"\"\n",
    "    We generate a True-False list predicting whether the positive outcome will occur or not\n",
    "    IN: probability for the +1 or for the -1 label as caluculated by the classifier; threshold value\n",
    "    OUT: boolean array with True if the outcome is predicted, and False if it is not\n",
    "    \"\"\"\n",
    "    predicted_outcomes = []\n",
    "    for i in range(prob_outcome.shape[0]):\n",
    "        if prob_outcome[i] > threshold:\n",
    "            predicted_outcomes.append(True)\n",
    "        else:\n",
    "            predicted_outcomes.append(False)\n",
    "            \n",
    "    return predicted_outcomes"
   ]
  },
  {
   "cell_type": "code",
   "execution_count": 90,
   "metadata": {},
   "outputs": [],
   "source": [
    "threshold=0.5\n",
    "predicted_outcomes = prediction(outcome_probabilities[:,1], threshold)"
   ]
  },
  {
   "cell_type": "markdown",
   "metadata": {},
   "source": [
    "**The confusion matrix shows where the model was accurate at predicting, based on the known outcomes from the test set. With this we can evaluate the performance of the model.**\n",
    "\n",
    "The confusion matrix gives us the numbers of true/false positives/negatives given by the model.\n",
    "\n",
    "Upper left: true positive. Upper right: false positive. Lower left: false negative. Lower right: true negative."
   ]
  },
  {
   "cell_type": "code",
   "execution_count": 96,
   "metadata": {},
   "outputs": [],
   "source": [
    "def calculate_confusion_matrix(actual_outcomes, predicted_outcomes):\n",
    "    \"\"\"\n",
    "    Calculate confusion matrix with number of true/false positives/negatives\n",
    "    IN: actual and predicted outcomes from the test dataset\n",
    "    OUT: confusion matrix as an array\n",
    "    \"\"\"\n",
    "    matrix = np.asarray([[0, 0], [0, 0]])\n",
    "    \n",
    "    for i in range(len(actual_outcomes)):\n",
    "        if actual_outcomes[i] and predicted_outcomes[i]:\n",
    "            matrix[0,0] = matrix[0,0] + 1\n",
    "        if actual_outcomes[i] and not predicted_outcomes[i]:\n",
    "            matrix[1,0] = matrix[1,0] + 1\n",
    "        if not actual_outcomes[i] and predicted_outcomes[i]:\n",
    "            matrix[0,1] = matrix[0,1] + 1\n",
    "        if not actual_outcomes[i] and not predicted_outcomes[i]:\n",
    "            matrix[1,1] = matrix[1,1] + 1\n",
    "            \n",
    "    return matrix"
   ]
  },
  {
   "cell_type": "code",
   "execution_count": 97,
   "metadata": {},
   "outputs": [
    {
     "data": {
      "text/plain": [
       "array([[5434, 1576],\n",
       "       [1259, 7663]])"
      ]
     },
     "metadata": {},
     "output_type": "display_data"
    }
   ],
   "source": [
    "conf_matrix = calculate_confusion_matrix(test_outcomes['outcome_type'].tolist(), predicted_outcomes)\n",
    "display(conf_matrix)"
   ]
  },
  {
   "cell_type": "markdown",
   "metadata": {},
   "source": [
    "**The performance of the model is evaluated by calculating the metrics (accuracy, precision, recall, and F1 score).**"
   ]
  },
  {
   "cell_type": "code",
   "execution_count": 98,
   "metadata": {},
   "outputs": [],
   "source": [
    "def negative_class_matrix(matrix):\n",
    "    \"\"\"\n",
    "    From the normal confusion matrix calculated from the positive class,\n",
    "    generate the flipped matrix corresponding to the negative class\n",
    "    IN: confusion matrix\n",
    "    OUT: flipped confusion matrix\n",
    "    \"\"\"\n",
    "    \n",
    "    neg_matrix = np.flip(matrix, axis=1)\n",
    "    neg_matrix = np.flip(neg_matrix, axis=0)\n",
    "    \n",
    "    return neg_matrix"
   ]
  },
  {
   "cell_type": "code",
   "execution_count": 99,
   "metadata": {},
   "outputs": [],
   "source": [
    "#Manual calculation of metrics\n",
    "def calculate_metrics(matrix, positive_class=True):\n",
    "    \"\"\"\n",
    "    Calculate accuracy, precision, recall, F1 score from a confusion matrix\n",
    "    IN: confusion matrix, boolean indicating positive class or negative\n",
    "    OUT: metrics (accuracy, precision, recall, F1 score), in dataframe format\n",
    "    \"\"\"\n",
    "     \n",
    "    accuracy = (matrix[0,0]+matrix[1,1]) / matrix.sum()\n",
    "        \n",
    "    if not positive_class:\n",
    "        matrix = negative_class_matrix(matrix)\n",
    "    \n",
    "    precision = matrix[0,0] / matrix[0,:].sum()\n",
    "    recall = matrix[0,0] / matrix[:,0].sum()\n",
    "    F1_score = 2*(precision*recall) / (precision+recall)\n",
    "            \n",
    "    \n",
    "    metrics = pd.Series([accuracy, precision, recall, F1_score])\n",
    "    metrics.rename(index={0:'accuracy', 1:'precision', 2:'recall', 3:'F1_score'}, inplace=True)\n",
    "    \n",
    "    return metrics"
   ]
  },
  {
   "cell_type": "code",
   "execution_count": 100,
   "metadata": {},
   "outputs": [
    {
     "data": {
      "text/plain": [
       "accuracy     0.822056\n",
       "precision    0.775178\n",
       "recall       0.811893\n",
       "F1_score     0.793111\n",
       "dtype: float64"
      ]
     },
     "metadata": {},
     "output_type": "display_data"
    }
   ],
   "source": [
    "metrics = calculate_metrics(conf_matrix)\n",
    "display(metrics)"
   ]
  },
  {
   "cell_type": "markdown",
   "metadata": {},
   "source": [
    "**We also want to know the metrics for the negative class: **"
   ]
  },
  {
   "cell_type": "code",
   "execution_count": 101,
   "metadata": {},
   "outputs": [
    {
     "data": {
      "text/plain": [
       "accuracy     0.822056\n",
       "precision    0.858888\n",
       "recall       0.829419\n",
       "F1_score     0.843896\n",
       "dtype: float64"
      ]
     },
     "metadata": {},
     "output_type": "display_data"
    }
   ],
   "source": [
    "neg_metrics = calculate_metrics(conf_matrix, positive_class=False)\n",
    "display(neg_metrics)"
   ]
  },
  {
   "cell_type": "markdown",
   "metadata": {},
   "source": [
    "**Next we will vary the threshold between 0 and 1 and view the metrics. **"
   ]
  },
  {
   "cell_type": "code",
   "execution_count": 104,
   "metadata": {},
   "outputs": [],
   "source": [
    "def view_metrics(pos_outcome_prob, threshold_list, test_outcome_list, positive_class=True, title=None):\n",
    "    \"\"\"\n",
    "    From the classifier results, calculate the prediction, the confusion matrix, and the metrics.\n",
    "    Plot the metrics based on the threshold.\n",
    "    IN: the probability of a positive outcome, the list of threshold values, the test outcomes in list format,\n",
    "    and whether we want the positive or negative class metrics\n",
    "    \"\"\"\n",
    "    metrics_df = pd.DataFrame()\n",
    "    \n",
    "    for i in range(threshold_list.shape[0]):\n",
    "        predicted_outcomes = prediction(pos_outcome_prob, threshold_list[i])\n",
    "        conf_matrix = calculate_confusion_matrix(test_outcome_list, predicted_outcomes)\n",
    "        metric_i = calculate_metrics(conf_matrix, positive_class)\n",
    "        metrics_df = metrics_df.append(metric_i, ignore_index=True)\n",
    "        \n",
    "    metrics_df.columns = ['accuracy', 'precision', 'recall', 'F1_score']\n",
    "    \n",
    "    plt.figure(figsize=(10,6))\n",
    "    plt.plot(threshold, metrics_df.accuracy)\n",
    "    plt.plot(threshold, metrics_df.precision)\n",
    "    plt.plot(threshold, metrics_df.recall)\n",
    "    plt.plot(threshold, metrics_df.F1_score)\n",
    "    plt.legend()\n",
    "    plt.xlabel('Threshold')\n",
    "    plt.ylabel('Value of the metric')\n",
    "    plt.title(title)"
   ]
  },
  {
   "cell_type": "markdown",
   "metadata": {},
   "source": [
    "The threshold cannot be exactly equal to zero (that would be meaningless), so we start at 0.01"
   ]
  },
  {
   "cell_type": "code",
   "execution_count": 105,
   "metadata": {},
   "outputs": [],
   "source": [
    "threshold = np.linspace(0.01, 1, 100)"
   ]
  },
  {
   "cell_type": "code",
   "execution_count": 106,
   "metadata": {},
   "outputs": [
    {
     "name": "stderr",
     "output_type": "stream",
     "text": [
      "/home/astrefeler/anaconda3/lib/python3.6/site-packages/ipykernel_launcher.py:14: RuntimeWarning: invalid value encountered in long_scalars\n",
      "  \n"
     ]
    },
    {
     "data": {
      "image/png": "[encoded data removed]",
      "text/plain": [
       "<Figure size 720x432 with 1 Axes>"
      ]
     },
     "metadata": {},
     "output_type": "display_data"
    },
    {
     "data": {
      "image/png": "[encoded data removed]",
      "text/plain": [
       "<Figure size 720x432 with 1 Axes>"
      ]
     },
     "metadata": {},
     "output_type": "display_data"
    }
   ],
   "source": [
    "view_metrics(outcome_probabilities[:,1], threshold, test_outcomes.outcome_type.tolist(), positive_class=True, title='Positive class metrics for varying threshold')\n",
    "view_metrics(outcome_probabilities[:,1], threshold, test_outcomes.outcome_type.tolist(), positive_class=False, title='Negative class metrics for varying threshold')"
   ]
  },
  {
   "cell_type": "markdown",
   "metadata": {},
   "source": [
    "**What is the most relevant metric when determining the threshold? **\n",
    "\n",
    "Accuracy gives information about how many true values were determined by the model. However, it does not take into account the errors and assumes false positives and negatives have the same importance.\n",
    "\n",
    "Precision determines the fraction of predicted positives that were actually positive. Optimizing precision would mean lowering the number of false positives, but this would also increase the number of false negatives. For the positive class, that means animals that would actually have been adopted will be euthanized. For the negative class, it means the shelter will be overcrowded since animals that wouldn't have been adopted will be kept.\n",
    "\n",
    "Recall determines the fraction of true positives that were recognized. To optimize recall, we would lower the number of false negatives. This would increase the number false positives. For the positive class, that means an overcrowded shelter as animals that won't be adopted are kept. For the negative class, that means euthanizing animals that would have been adopted.\n",
    "\n",
    "The F1 score is the harmonic mean of precision and recall. It allows for a compromise between those two values. We think this is the most relevant statistic to choose the threshold since it will balance between false positive and negative rates (for either class), limiting both the number of euthanized animals and shelter overcrowding."
   ]
  },
  {
   "cell_type": "markdown",
   "metadata": {},
   "source": [
    "## Task 2C\n",
    "\n",
    "### Select a subset of k best features using greedy backward selection. Evaluate performance with 5-fold cross validation on the training set. Choose the optimal k, and interpret the impact of the top-k features on adoption."
   ]
  },
  {
   "cell_type": "markdown",
   "metadata": {},
   "source": [
    "Although it wasn't explicit in the instructions, a question on mattermost revealed that performance should be evaluated using the accuracy metric. Since it wasn't clear, we could use another metric (such as the F1 score) as long as it is justified."
   ]
  },
  {
   "cell_type": "markdown",
   "metadata": {},
   "source": [
    "N-fold cross validation involves splitting a set of data into N subsets, of which one is chosen as the test set, iteratively. For each iteration, the performance statistic is calculated. At the end, the average of the statistic represents its value for the entire dataset. The process of cross validation serves to avoid overfitting to a single test subset of the data."
   ]
  },
  {
   "cell_type": "code",
   "execution_count": 107,
   "metadata": {},
   "outputs": [],
   "source": [
    "def cross_validation(features, outcomes, classifier='logistic', estimators=100, depth=5, k_fold=5, threshold=0.5):\n",
    "    \"\"\"\n",
    "    Cross validate a model using the accuracy metric\n",
    "    IN: feature vectors; corresponding outcomes; classifier to use (either logistic regression of random forest);\n",
    "    estimators and maximum depth for the random forest model as integers;\n",
    "    k_fold cross validation; threshold value\n",
    "    OUT: accuracy metric for the data\n",
    "    \"\"\"\n",
    "    \n",
    "    #Split features into k_fold datasets\n",
    "    n = int(features.shape[0]/k_fold)\n",
    "    list_features = [features[i:i+n] for i in range(0, features.shape[0], n)]\n",
    "    list_outcomes = [outcomes[i:i+n] for i in range(0, outcomes.shape[0], n)]\n",
    "    \n",
    "    accuracies = []\n",
    "    \n",
    "    for i in range(k_fold):\n",
    "        #Select test subset\n",
    "        test = list_features[i]\n",
    "        test_outcomes = list_outcomes[i]\n",
    "        \n",
    "        training = pd.DataFrame()\n",
    "        training_outcomes = pd.DataFrame()\n",
    "        \n",
    "        #Extract training subset (all data except test)\n",
    "        for j in range(len(list_features)):\n",
    "            if j != i:\n",
    "                training = training.append(list_features[j])\n",
    "                \n",
    "                outcomes = list_outcomes[j].merge(list_features[j], left_index=True, right_index=True)\n",
    "                training_outcomes = training_outcomes.append(outcomes[['outcome_type']])\n",
    "        \n",
    "        #Create and train model\n",
    "        if classifier == 'logistic':\n",
    "            model = LogisticRegression(solver='lbfgs')   \n",
    "       \n",
    "        if classifier == 'random forest':\n",
    "            model = RandomForestClassifier(n_estimators=estimators, max_depth=depth)\n",
    "        \n",
    "        model.fit(training, training_outcomes['outcome_type'].tolist())\n",
    "        \n",
    "        #Calculate prediction, confusion matrix, and performance metric (accuracy)\n",
    "        outcome_probabilities = model.predict_proba(test)\n",
    "        predicted_outcomes = prediction(outcome_probabilities[:,1], threshold)\n",
    "        conf_matrix = calculate_confusion_matrix(test_outcomes['outcome_type'].tolist(), predicted_outcomes)\n",
    "        \n",
    "        accuracy_i = (conf_matrix[0,0]+conf_matrix[1,1]) / conf_matrix.sum()\n",
    "        \n",
    "        accuracies.append(accuracy_i)\n",
    "    \n",
    "    #Return the mean accuracy\n",
    "    return sum(accuracies)/len(accuracies)"
   ]
  },
  {
   "cell_type": "code",
   "execution_count": 108,
   "metadata": {},
   "outputs": [],
   "source": [
    "def greedy_backward_selection_LogR(features, outcomes, k_features):\n",
    "    \"\"\"\n",
    "    For a logistic regression classifier, use greedy backward selection to find the top k features of the model.\n",
    "    Performance is evaluated using 5-fold cross-validation on the accuracy statistic.\n",
    "    IN: feature vectors; corresponding outcomes; k number of features to select\n",
    "    OUT: k remaining columns and the corresponding accuracy\n",
    "    \"\"\"\n",
    "    \n",
    "    k_features.sort(reverse=True)\n",
    "    \n",
    "    baseline_accuracy = cross_validation(features, outcomes)\n",
    "    accuracy_for_k = []\n",
    "    \n",
    "    for i in range(len(k_features)):\n",
    "        k = k_features[i]\n",
    "        \n",
    "        while features.shape[1] > k:\n",
    "            \n",
    "            accuracy_diff = []\n",
    "        \n",
    "            #Evaluate the effect of dropping each column; where perfomance changes minimally, we drop that column\n",
    "            for l in range(features.shape[1] - 1):\n",
    "                filtered_features = features.drop(columns=features.columns[l])\n",
    "                accuracy_l = cross_validation(filtered_features, outcomes)\n",
    "                accuracy_diff.append(baseline_accuracy - accuracy_l)\n",
    "        \n",
    "            col_to_drop = accuracy_diff.index((min(accuracy_diff)))\n",
    "            print(\"for k = {}, drop column {}\".format(k, features.columns[col_to_drop]))\n",
    "            features = features.drop(columns = features.columns[col_to_drop])\n",
    "            \n",
    "        if features.shape[1] == k:\n",
    "            k_accuracy = cross_validation(features, outcomes)\n",
    "            accuracy_for_k.append((k, k_accuracy))\n",
    "            \n",
    "        if features.shape[1] == 1:\n",
    "            print(\"The last remaining column is {}\".format(features.columns))\n",
    "            \n",
    "    return accuracy_for_k"
   ]
  },
  {
   "cell_type": "markdown",
   "metadata": {},
   "source": [
    "Note that we perform this operation on the training set, as specified in the instructions. The whole data set could be used if it was standardized first."
   ]
  },
  {
   "cell_type": "code",
   "execution_count": 109,
   "metadata": {},
   "outputs": [
    {
     "name": "stdout",
     "output_type": "stream",
     "text": [
      "for k = 30, drop column age_upon_outcome_(years)\n",
      "for k = 30, drop column animal_type_Bird\n",
      "for k = 25, drop column intake_condition_Pregnant\n",
      "for k = 25, drop column intake_condition_Injured\n",
      "for k = 25, drop column intake_type_Owner Surrender\n",
      "for k = 25, drop column sex_upon_intake_Intact Male\n",
      "for k = 25, drop column sex_upon_outcome_Intact Female\n",
      "for k = 20, drop column sex_upon_intake_Intact Female\n",
      "for k = 20, drop column sex_upon_intake_Unknown\n",
      "for k = 20, drop column sex_upon_outcome_Intact Male\n",
      "for k = 20, drop column intake_condition_Aged\n",
      "for k = 20, drop column intake_condition_Nursing\n",
      "for k = 15, drop column intake_condition_Other\n",
      "for k = 15, drop column intake_condition_Sick\n",
      "for k = 15, drop column animal_type_Dog\n",
      "for k = 15, drop column intake_type_Euthanasia Request\n",
      "for k = 15, drop column animal_type_Cat\n",
      "for k = 10, drop column intake_type_Wildlife\n",
      "for k = 10, drop column animal_type_Other\n",
      "for k = 10, drop column intake_condition_Feral\n",
      "for k = 10, drop column intake_number\n",
      "for k = 10, drop column intake_condition_Normal\n",
      "for k = 5, drop column intake_year\n",
      "for k = 5, drop column age_upon_intake_(years)\n",
      "for k = 5, drop column sex_upon_intake_Neutered Male\n",
      "for k = 5, drop column intake_type_Public Assist\n",
      "for k = 5, drop column intake_type_Stray\n",
      "for k = 1, drop column sex_upon_intake_Spayed Female\n",
      "for k = 1, drop column time_in_shelter_days\n",
      "for k = 1, drop column sex_upon_outcome_Neutered Male\n",
      "for k = 1, drop column sex_upon_outcome_Spayed Female\n",
      "The last remaining column is Index(['sex_upon_outcome_Unknown'], dtype='object')\n"
     ]
    }
   ],
   "source": [
    "k = [1, 5, 10, 15, 20, 25, 30]\n",
    "accuracy_per_k = greedy_backward_selection_LogR(training_set, training_outcomes, k)"
   ]
  },
  {
   "cell_type": "markdown",
   "metadata": {},
   "source": [
    "**Some of the most important features found by this method are the sex of the animal upon adoption, and the time it spent in the shelter. Some of the least important features are the intake condition, which makes sense since animals are nursed back to health before being put up for adoption. **"
   ]
  },
  {
   "cell_type": "code",
   "execution_count": 110,
   "metadata": {},
   "outputs": [
    {
     "data": {
      "text/plain": [
       "Text(0.5,1,'Accuracy per k features after greedy backwards selection')"
      ]
     },
     "execution_count": 110,
     "metadata": {},
     "output_type": "execute_result"
    },
    {
     "data": {
      "image/png": "[encoded data removed]",
      "text/plain": [
       "<Figure size 432x288 with 1 Axes>"
      ]
     },
     "metadata": {},
     "output_type": "display_data"
    }
   ],
   "source": [
    "x_val = [x[0] for x in accuracy_per_k]\n",
    "y_val = [x[1] for x in accuracy_per_k]\n",
    "plt.plot(x_val, y_val)\n",
    "plt.xlabel('Number of features')\n",
    "plt.ylabel('Accuracy metric')\n",
    "plt.title('Accuracy per k features after greedy backwards selection')"
   ]
  },
  {
   "cell_type": "markdown",
   "metadata": {},
   "source": [
    "**We see that the metric plateaus at 10 features. Features kept at this point are the most important for the prediction, while features removed before then had little impact. k=10 is therefore the optimal number of features to select.**"
   ]
  },
  {
   "cell_type": "markdown",
   "metadata": {},
   "source": [
    "## Task 2D\n",
    "\n",
    "### Train a Random Forest classifier. Find the best parameters (number of estimators and maximum tree depth) using a grid search with cross validation on the training set. For the best parameters, evaluate performance with metrics and confusion matrix. Compare performance with the logistic regression classifier."
   ]
  },
  {
   "cell_type": "code",
   "execution_count": 111,
   "metadata": {},
   "outputs": [],
   "source": [
    "def RF_parameters(features, outcomes, max_depth, n_estimators):\n",
    "    \"\"\"\n",
    "    Grid-search using cross validation to find the best parameters for a random forest classifier\n",
    "    IN: features and corresponding outcomes; lists of possible values for depth and estimators\n",
    "    OUT: optimal depth and estimator parameters, with the accuracy metric\n",
    "    \"\"\"\n",
    "    accuracy_df = pd.DataFrame()\n",
    "    for j in range(max_depth.shape[0]):\n",
    "        for i in range(n_estimators.shape[0]):\n",
    "            accuracy_ij = cross_validation(features, outcomes, classifier='random forest', estimators=int(n_estimators[i]), depth=int(max_depth[j]))\n",
    "            accuracy_df = accuracy_df.append(pd.Series([n_estimators[i], max_depth[j], accuracy_ij]), ignore_index=True)\n",
    "    \n",
    "    accuracy_df.columns = ['n_estimators', 'max_depth', 'accuracy']\n",
    "    \n",
    "    #The best parameters give the maximum accuracy\n",
    "    ind = accuracy_df['accuracy'].idxmax()\n",
    "    \n",
    "    return accuracy_df.iloc[ind]"
   ]
  },
  {
   "cell_type": "code",
   "execution_count": 112,
   "metadata": {},
   "outputs": [],
   "source": [
    "depth_range = np.linspace(10, 20, 11)\n",
    "estimator_range = np.linspace(50, 200, 7)\n",
    "parameters = RF_parameters(training_set, training_outcomes, depth_range, estimator_range)"
   ]
  },
  {
   "cell_type": "code",
   "execution_count": 113,
   "metadata": {},
   "outputs": [
    {
     "data": {
      "text/plain": [
       "n_estimators    150.000000\n",
       "max_depth        15.000000\n",
       "accuracy          0.856053\n",
       "Name: 39, dtype: float64"
      ]
     },
     "execution_count": 113,
     "metadata": {},
     "output_type": "execute_result"
    }
   ],
   "source": [
    "parameters"
   ]
  },
  {
   "cell_type": "markdown",
   "metadata": {},
   "source": [
    "**Now that we have the best parameters, we can recalculate a Random Forest just with them, to get the confusion matrix and to calculate all the metrics. **"
   ]
  },
  {
   "cell_type": "code",
   "execution_count": 114,
   "metadata": {},
   "outputs": [],
   "source": [
    "threshold=0.5\n",
    "model = RandomForestClassifier(n_estimators=int(parameters[0]), max_depth=int(parameters[1]))\n",
    "model.fit(training_set, training_outcomes['outcome_type'].tolist())\n",
    "outcome_probabilities = model.predict_proba(test_set)\n",
    "predicted_outcomes = prediction(outcome_probabilities[:,1], threshold)\n",
    "conf_matrix = calculate_confusion_matrix(test_outcomes['outcome_type'].tolist(), predicted_outcomes)"
   ]
  },
  {
   "cell_type": "code",
   "execution_count": 115,
   "metadata": {},
   "outputs": [
    {
     "name": "stdout",
     "output_type": "stream",
     "text": [
      "Positive class metrics:\n"
     ]
    },
    {
     "data": {
      "text/plain": [
       "accuracy     0.856264\n",
       "precision    0.789404\n",
       "recall       0.897206\n",
       "F1_score     0.839860\n",
       "dtype: float64"
      ]
     },
     "metadata": {},
     "output_type": "display_data"
    },
    {
     "name": "stdout",
     "output_type": "stream",
     "text": [
      "Negative class metrics:\n"
     ]
    },
    {
     "data": {
      "text/plain": [
       "accuracy     0.856264\n",
       "precision    0.917357\n",
       "recall       0.826605\n",
       "F1_score     0.869620\n",
       "dtype: float64"
      ]
     },
     "metadata": {},
     "output_type": "display_data"
    }
   ],
   "source": [
    "print(\"Positive class metrics:\")\n",
    "metrics = calculate_metrics(conf_matrix)\n",
    "display(metrics)\n",
    "\n",
    "print(\"Negative class metrics:\")\n",
    "neg_metrics = calculate_metrics(conf_matrix, positive_class=False)\n",
    "display(neg_metrics)"
   ]
  },
  {
   "cell_type": "markdown",
   "metadata": {},
   "source": [
    "**For both the positive and negative classes, the Random Forest classifier gives better performance than the logistic regression classifier. However, this has the cost of requiring much more computing power. **"
   ]
  },
  {
   "cell_type": "code",
   "execution_count": null,
   "metadata": {},
   "outputs": [],
   "source": []
  }
 ],
 "metadata": {
  "kernelspec": {
   "display_name": "Python 3",
   "language": "python",
   "name": "python3"
  },
  "language_info": {
   "codemirror_mode": {
    "name": "ipython",
    "version": 3
   },
   "file_extension": ".py",
   "mimetype": "text/x-python",
   "name": "python",
   "nbconvert_exporter": "python",
   "pygments_lexer": "ipython3",
   "version": "3.6.5"
  },
  "varInspector": {
   "cols": {
    "lenName": 16,
    "lenType": 16,
    "lenVar": 40
   },
   "kernels_config": {
    "python": {
     "delete_cmd_postfix": "",
     "delete_cmd_prefix": "del ",
     "library": "var_list.py",
     "varRefreshCmd": "print(var_dic_list())"
    },
    "r": {
     "delete_cmd_postfix": ") ",
     "delete_cmd_prefix": "rm(",
     "library": "var_list.r",
     "varRefreshCmd": "cat(var_dic_list()) "
    }
   },
   "types_to_exclude": [
    "module",
    "function",
    "builtin_function_or_method",
    "instance",
    "_Feature"
   ],
   "window_display": false
  }
 },
 "nbformat": 4,
 "nbformat_minor": 2
}
